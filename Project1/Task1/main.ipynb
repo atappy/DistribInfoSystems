{
 "cells": [
  {
   "cell_type": "markdown",
   "metadata": {},
   "source": [
    "# Project 1 Task 1"
   ]
  },
  {
   "cell_type": "markdown",
   "metadata": {},
   "source": [
    "### Contents\n",
    "- Imports and flags\n",
    "- Data\n",
    "- Tokenization\n",
    "- Vectorization\n",
    "- Search with query"
   ]
  },
  {
   "cell_type": "markdown",
   "metadata": {},
   "source": [
    "### Imports and flags"
   ]
  },
  {
   "cell_type": "code",
   "execution_count": 1,
   "metadata": {},
   "outputs": [],
   "source": [
    "from nltk.stem import PorterStemmer\n",
    "import nltk\n",
    "from src.tokenization import *\n",
    "from src.vectorization import *"
   ]
  },
  {
   "cell_type": "code",
   "execution_count": 2,
   "metadata": {},
   "outputs": [],
   "source": [
    "F_reduced_dataset = False  # If true load only 1% of corpus and small portion of queries and train_set\n",
    "F_do_tokenization = False  # If true tokenize corpus + queries, else load already tokenized documents"
   ]
  },
  {
   "cell_type": "markdown",
   "metadata": {},
   "source": [
    "### Data"
   ]
  },
  {
   "cell_type": "code",
   "execution_count": 3,
   "metadata": {},
   "outputs": [],
   "source": [
    "# Load\n",
    "corpus, queries, train_set = load_task1_data(F_do_tokenization)"
   ]
  },
  {
   "cell_type": "code",
   "execution_count": 4,
   "metadata": {},
   "outputs": [
    {
     "data": {
      "text/html": [
       "<div>\n",
       "<style scoped>\n",
       "    .dataframe tbody tr th:only-of-type {\n",
       "        vertical-align: middle;\n",
       "    }\n",
       "\n",
       "    .dataframe tbody tr th {\n",
       "        vertical-align: top;\n",
       "    }\n",
       "\n",
       "    .dataframe thead th {\n",
       "        text-align: right;\n",
       "    }\n",
       "</style>\n",
       "<table border=\"1\" class=\"dataframe\">\n",
       "  <thead>\n",
       "    <tr style=\"text-align: right;\">\n",
       "      <th></th>\n",
       "      <th>text</th>\n",
       "    </tr>\n",
       "    <tr>\n",
       "      <th>_id</th>\n",
       "      <th></th>\n",
       "    </tr>\n",
       "  </thead>\n",
       "  <tbody>\n",
       "    <tr>\n",
       "      <th>1867825</th>\n",
       "      <td>After the invention of the cotton gin, cotton ...</td>\n",
       "    </tr>\n",
       "    <tr>\n",
       "      <th>419610</th>\n",
       "      <td>Timer has separate night and day outlets, whic...</td>\n",
       "    </tr>\n",
       "    <tr>\n",
       "      <th>4614226</th>\n",
       "      <td>The rose-buying public still encounters a wide...</td>\n",
       "    </tr>\n",
       "    <tr>\n",
       "      <th>4108603</th>\n",
       "      <td>Map of Wendover (Aut) Airport. A detailed map ...</td>\n",
       "    </tr>\n",
       "    <tr>\n",
       "      <th>3744854</th>\n",
       "      <td>And as the poems Reapers and Cotton Song indic...</td>\n",
       "    </tr>\n",
       "  </tbody>\n",
       "</table>\n",
       "</div>"
      ],
      "text/plain": [
       "                                                      text\n",
       "_id                                                       \n",
       "1867825  After the invention of the cotton gin, cotton ...\n",
       "419610   Timer has separate night and day outlets, whic...\n",
       "4614226  The rose-buying public still encounters a wide...\n",
       "4108603  Map of Wendover (Aut) Airport. A detailed map ...\n",
       "3744854  And as the poems Reapers and Cotton Song indic..."
      ]
     },
     "execution_count": 4,
     "metadata": {},
     "output_type": "execute_result"
    }
   ],
   "source": [
    "corpus.head()"
   ]
  },
  {
   "cell_type": "code",
   "execution_count": 5,
   "metadata": {},
   "outputs": [
    {
     "data": {
      "text/html": [
       "<div>\n",
       "<style scoped>\n",
       "    .dataframe tbody tr th:only-of-type {\n",
       "        vertical-align: middle;\n",
       "    }\n",
       "\n",
       "    .dataframe tbody tr th {\n",
       "        vertical-align: top;\n",
       "    }\n",
       "\n",
       "    .dataframe thead th {\n",
       "        text-align: right;\n",
       "    }\n",
       "</style>\n",
       "<table border=\"1\" class=\"dataframe\">\n",
       "  <thead>\n",
       "    <tr style=\"text-align: right;\">\n",
       "      <th></th>\n",
       "      <th>text</th>\n",
       "    </tr>\n",
       "    <tr>\n",
       "      <th>_id</th>\n",
       "      <th></th>\n",
       "    </tr>\n",
       "  </thead>\n",
       "  <tbody>\n",
       "    <tr>\n",
       "      <th>1185869</th>\n",
       "      <td>)what was the immediate impact of the success ...</td>\n",
       "    </tr>\n",
       "    <tr>\n",
       "      <th>1185868</th>\n",
       "      <td>_________ justice is designed to repair the ha...</td>\n",
       "    </tr>\n",
       "    <tr>\n",
       "      <th>597651</th>\n",
       "      <td>what color is amber urine</td>\n",
       "    </tr>\n",
       "    <tr>\n",
       "      <th>403613</th>\n",
       "      <td>is autoimmune hepatitis a bile acid synthesis ...</td>\n",
       "    </tr>\n",
       "    <tr>\n",
       "      <th>1183785</th>\n",
       "      <td>elegxo meaning</td>\n",
       "    </tr>\n",
       "  </tbody>\n",
       "</table>\n",
       "</div>"
      ],
      "text/plain": [
       "                                                      text\n",
       "_id                                                       \n",
       "1185869  )what was the immediate impact of the success ...\n",
       "1185868  _________ justice is designed to repair the ha...\n",
       "597651                           what color is amber urine\n",
       "403613   is autoimmune hepatitis a bile acid synthesis ...\n",
       "1183785                                     elegxo meaning"
      ]
     },
     "execution_count": 5,
     "metadata": {},
     "output_type": "execute_result"
    }
   ],
   "source": [
    "queries.head()"
   ]
  },
  {
   "cell_type": "code",
   "execution_count": 6,
   "metadata": {},
   "outputs": [
    {
     "data": {
      "text/html": [
       "<div>\n",
       "<style scoped>\n",
       "    .dataframe tbody tr th:only-of-type {\n",
       "        vertical-align: middle;\n",
       "    }\n",
       "\n",
       "    .dataframe tbody tr th {\n",
       "        vertical-align: top;\n",
       "    }\n",
       "\n",
       "    .dataframe thead th {\n",
       "        text-align: right;\n",
       "    }\n",
       "</style>\n",
       "<table border=\"1\" class=\"dataframe\">\n",
       "  <thead>\n",
       "    <tr style=\"text-align: right;\">\n",
       "      <th></th>\n",
       "      <th>corpus-id</th>\n",
       "    </tr>\n",
       "    <tr>\n",
       "      <th>query-id</th>\n",
       "      <th></th>\n",
       "    </tr>\n",
       "  </thead>\n",
       "  <tbody>\n",
       "    <tr>\n",
       "      <th>1185869</th>\n",
       "      <td>0</td>\n",
       "    </tr>\n",
       "    <tr>\n",
       "      <th>1185868</th>\n",
       "      <td>16</td>\n",
       "    </tr>\n",
       "    <tr>\n",
       "      <th>597651</th>\n",
       "      <td>49</td>\n",
       "    </tr>\n",
       "    <tr>\n",
       "      <th>403613</th>\n",
       "      <td>60</td>\n",
       "    </tr>\n",
       "    <tr>\n",
       "      <th>1183785</th>\n",
       "      <td>389</td>\n",
       "    </tr>\n",
       "  </tbody>\n",
       "</table>\n",
       "</div>"
      ],
      "text/plain": [
       "          corpus-id\n",
       "query-id           \n",
       "1185869           0\n",
       "1185868          16\n",
       "597651           49\n",
       "403613           60\n",
       "1183785         389"
      ]
     },
     "execution_count": 6,
     "metadata": {},
     "output_type": "execute_result"
    }
   ],
   "source": [
    "train_set.head()"
   ]
  },
  {
   "cell_type": "markdown",
   "metadata": {},
   "source": [
    "### Tokenization"
   ]
  },
  {
   "cell_type": "code",
   "execution_count": 7,
   "metadata": {},
   "outputs": [
    {
     "name": "stderr",
     "output_type": "stream",
     "text": [
      "[nltk_data] Downloading package stopwords to\n",
      "[nltk_data]     /home/aducret/nltk_data...\n",
      "[nltk_data]   Package stopwords is already up-to-date!\n"
     ]
    },
    {
     "name": "stdout",
     "output_type": "stream",
     "text": [
      "Files loaded\n"
     ]
    }
   ],
   "source": [
    "nltk.download('stopwords')\n",
    "stemmer = PorterStemmer()\n",
    "token_dir = \"Data/tokens/\"\n",
    "\n",
    "# Tokenize corpus and queries and save it, OR load it\n",
    "if F_do_tokenization:\n",
    "    tokenize_corpus_queries(corpus, queries, stemmer)\n",
    "    save_tokenized_corpus_queries(token_dir, corpus, queries)\n",
    "else:\n",
    "    load_tokenized_corpus_queries(token_dir, corpus, queries)"
   ]
  },
  {
   "cell_type": "markdown",
   "metadata": {},
   "source": [
    "### Vocabulary"
   ]
  },
  {
   "cell_type": "code",
   "execution_count": 8,
   "metadata": {},
   "outputs": [
    {
     "data": {
      "text/html": [
       "<div>\n",
       "<style scoped>\n",
       "    .dataframe tbody tr th:only-of-type {\n",
       "        vertical-align: middle;\n",
       "    }\n",
       "\n",
       "    .dataframe tbody tr th {\n",
       "        vertical-align: top;\n",
       "    }\n",
       "\n",
       "    .dataframe thead th {\n",
       "        text-align: right;\n",
       "    }\n",
       "</style>\n",
       "<table border=\"1\" class=\"dataframe\">\n",
       "  <thead>\n",
       "    <tr style=\"text-align: right;\">\n",
       "      <th></th>\n",
       "      <th>word</th>\n",
       "      <th>method</th>\n",
       "    </tr>\n",
       "  </thead>\n",
       "  <tbody>\n",
       "    <tr>\n",
       "      <th>0</th>\n",
       "      <td>10</td>\n",
       "      <td>Both</td>\n",
       "    </tr>\n",
       "    <tr>\n",
       "      <th>1</th>\n",
       "      <td>12</td>\n",
       "      <td>Custom</td>\n",
       "    </tr>\n",
       "    <tr>\n",
       "      <th>2</th>\n",
       "      <td>15</td>\n",
       "      <td>Both</td>\n",
       "    </tr>\n",
       "    <tr>\n",
       "      <th>3</th>\n",
       "      <td>1500</td>\n",
       "      <td>Custom</td>\n",
       "    </tr>\n",
       "    <tr>\n",
       "      <th>4</th>\n",
       "      <td>1790</td>\n",
       "      <td>Both</td>\n",
       "    </tr>\n",
       "    <tr>\n",
       "      <th>...</th>\n",
       "      <td>...</td>\n",
       "      <td>...</td>\n",
       "    </tr>\n",
       "    <tr>\n",
       "      <th>175</th>\n",
       "      <td>tools</td>\n",
       "      <td>TFID</td>\n",
       "    </tr>\n",
       "    <tr>\n",
       "      <th>176</th>\n",
       "      <td>underscored</td>\n",
       "      <td>TFID</td>\n",
       "    </tr>\n",
       "    <tr>\n",
       "      <th>177</th>\n",
       "      <td>understanding</td>\n",
       "      <td>TFID</td>\n",
       "    </tr>\n",
       "    <tr>\n",
       "      <th>178</th>\n",
       "      <td>variety</td>\n",
       "      <td>TFID</td>\n",
       "    </tr>\n",
       "    <tr>\n",
       "      <th>179</th>\n",
       "      <td>wendover</td>\n",
       "      <td>TFID</td>\n",
       "    </tr>\n",
       "  </tbody>\n",
       "</table>\n",
       "<p>180 rows × 2 columns</p>\n",
       "</div>"
      ],
      "text/plain": [
       "              word  method\n",
       "0               10    Both\n",
       "1               12  Custom\n",
       "2               15    Both\n",
       "3             1500  Custom\n",
       "4             1790    Both\n",
       "..             ...     ...\n",
       "175          tools    TFID\n",
       "176    underscored    TFID\n",
       "177  understanding    TFID\n",
       "178        variety    TFID\n",
       "179       wendover    TFID\n",
       "\n",
       "[180 rows x 2 columns]"
      ]
     },
     "execution_count": 8,
     "metadata": {},
     "output_type": "execute_result"
    }
   ],
   "source": [
    "# Generate vocab from corpus\n",
    "vocab_path = f\"{token_dir}vocabulary.txt\"\n",
    "reduced_corpus = corpus.iloc[0:5]\n",
    "vocab = generate_vocab_from_corpus(reduced_corpus)\n",
    "save_vocab(vocab,vocab_path)\n",
    "vocab"
   ]
  },
  {
   "cell_type": "markdown",
   "metadata": {},
   "source": [
    "### 3. Vectorization"
   ]
  },
  {
   "cell_type": "code",
   "execution_count": 9,
   "metadata": {},
   "outputs": [],
   "source": [
    "vectorized_corpus, vectorized_queries = vectorize_corpus_queries(corpus, queries)"
   ]
  },
  {
   "cell_type": "markdown",
   "metadata": {},
   "source": [
    "### 4. Search with query"
   ]
  },
  {
   "cell_type": "code",
   "execution_count": 10,
   "metadata": {},
   "outputs": [
    {
     "data": {
      "text/html": [
       "<div>\n",
       "<style scoped>\n",
       "    .dataframe tbody tr th:only-of-type {\n",
       "        vertical-align: middle;\n",
       "    }\n",
       "\n",
       "    .dataframe tbody tr th {\n",
       "        vertical-align: top;\n",
       "    }\n",
       "\n",
       "    .dataframe thead th {\n",
       "        text-align: right;\n",
       "    }\n",
       "</style>\n",
       "<table border=\"1\" class=\"dataframe\">\n",
       "  <thead>\n",
       "    <tr style=\"text-align: right;\">\n",
       "      <th></th>\n",
       "      <th>corpus-id</th>\n",
       "    </tr>\n",
       "    <tr>\n",
       "      <th>query-id</th>\n",
       "      <th></th>\n",
       "    </tr>\n",
       "  </thead>\n",
       "  <tbody>\n",
       "    <tr>\n",
       "      <th>1185869</th>\n",
       "      <td>0</td>\n",
       "    </tr>\n",
       "    <tr>\n",
       "      <th>1185868</th>\n",
       "      <td>16</td>\n",
       "    </tr>\n",
       "    <tr>\n",
       "      <th>597651</th>\n",
       "      <td>49</td>\n",
       "    </tr>\n",
       "    <tr>\n",
       "      <th>403613</th>\n",
       "      <td>60</td>\n",
       "    </tr>\n",
       "    <tr>\n",
       "      <th>1183785</th>\n",
       "      <td>389</td>\n",
       "    </tr>\n",
       "    <tr>\n",
       "      <th>...</th>\n",
       "      <td>...</td>\n",
       "    </tr>\n",
       "    <tr>\n",
       "      <th>19285</th>\n",
       "      <td>8841362</td>\n",
       "    </tr>\n",
       "    <tr>\n",
       "      <th>558837</th>\n",
       "      <td>4989159</td>\n",
       "    </tr>\n",
       "    <tr>\n",
       "      <th>559149</th>\n",
       "      <td>8841547</td>\n",
       "    </tr>\n",
       "    <tr>\n",
       "      <th>706678</th>\n",
       "      <td>8841643</td>\n",
       "    </tr>\n",
       "    <tr>\n",
       "      <th>405466</th>\n",
       "      <td>8841735</td>\n",
       "    </tr>\n",
       "  </tbody>\n",
       "</table>\n",
       "<p>532751 rows × 1 columns</p>\n",
       "</div>"
      ],
      "text/plain": [
       "          corpus-id\n",
       "query-id           \n",
       "1185869           0\n",
       "1185868          16\n",
       "597651           49\n",
       "403613           60\n",
       "1183785         389\n",
       "...             ...\n",
       "19285       8841362\n",
       "558837      4989159\n",
       "559149      8841547\n",
       "706678      8841643\n",
       "405466      8841735\n",
       "\n",
       "[532751 rows x 1 columns]"
      ]
     },
     "execution_count": 10,
     "metadata": {},
     "output_type": "execute_result"
    }
   ],
   "source": [
    "train_set"
   ]
  },
  {
   "cell_type": "code",
   "execution_count": 11,
   "metadata": {},
   "outputs": [],
   "source": [
    "from sklearn.metrics.pairwise import linear_kernel\n",
    "from operator import itemgetter\n",
    "\n",
    "# Retrieval oracle \n",
    "tf = TfidfVectorizer(analyzer='word', ngram_range=(1,1), min_df = 1, stop_words = 'english')\n",
    "features = tf.fit_transform(corpus.text.to_list()[:10000])\n",
    "npm_tfidf = features.todense()\n",
    "\n",
    "# Return all document ids that that have cosine similarity with the query larger than a threshold\n",
    "def search_vec_sklearn(query, features, threshold=0.1):\n",
    "    new_features = tf.transform([query])\n",
    "    cosine_similarities = linear_kernel(new_features, features).flatten()\n",
    "    related_docs_indices, cos_sim_sorted = zip(*sorted(enumerate(cosine_similarities), key=itemgetter(1), \n",
    "                                                       reverse=True))\n",
    "    doc_ids = []\n",
    "    for i, cos_sim in enumerate(cos_sim_sorted):\n",
    "        if cos_sim < threshold:\n",
    "            break\n",
    "        doc_ids.append(related_docs_indices[i])\n",
    "    return doc_ids"
   ]
  },
  {
   "cell_type": "code",
   "execution_count": 12,
   "metadata": {},
   "outputs": [
    {
     "data": {
      "text/plain": [
       "[7624917]"
      ]
     },
     "execution_count": 12,
     "metadata": {},
     "output_type": "execute_result"
    }
   ],
   "source": [
    "search_vec_sklearn(queries.iloc[0][\"text\"], features, threshold=0.1)[0]\n",
    "k_search(vectorized_queries[0], vectorized_corpus, corpus.index, 1)"
   ]
  },
  {
   "cell_type": "code",
   "execution_count": 16,
   "metadata": {},
   "outputs": [],
   "source": [
    "\n",
    "# Find every relevant doc for 10 first queries\n",
    "for (q_id, row), query_vector in zip(train_set.iterrows(), vectorized_queries[:10]):\n",
    "    docs_id = k_search(query_vector, vectorized_corpus, corpus.index, 1)\n",
    "    train_set.at[q_id, \"custom_id\"] = int(docs_id[0])\n",
    "    "
   ]
  },
  {
   "cell_type": "code",
   "execution_count": 17,
   "metadata": {},
   "outputs": [
    {
     "data": {
      "text/html": [
       "<div>\n",
       "<style scoped>\n",
       "    .dataframe tbody tr th:only-of-type {\n",
       "        vertical-align: middle;\n",
       "    }\n",
       "\n",
       "    .dataframe tbody tr th {\n",
       "        vertical-align: top;\n",
       "    }\n",
       "\n",
       "    .dataframe thead th {\n",
       "        text-align: right;\n",
       "    }\n",
       "</style>\n",
       "<table border=\"1\" class=\"dataframe\">\n",
       "  <thead>\n",
       "    <tr style=\"text-align: right;\">\n",
       "      <th></th>\n",
       "      <th>corpus-id</th>\n",
       "      <th>custom_id</th>\n",
       "    </tr>\n",
       "    <tr>\n",
       "      <th>query-id</th>\n",
       "      <th></th>\n",
       "      <th></th>\n",
       "    </tr>\n",
       "  </thead>\n",
       "  <tbody>\n",
       "    <tr>\n",
       "      <th>1185869</th>\n",
       "      <td>0</td>\n",
       "      <td>7624917.0</td>\n",
       "    </tr>\n",
       "    <tr>\n",
       "      <th>1185868</th>\n",
       "      <td>16</td>\n",
       "      <td>3020376.0</td>\n",
       "    </tr>\n",
       "    <tr>\n",
       "      <th>597651</th>\n",
       "      <td>49</td>\n",
       "      <td>4944584.0</td>\n",
       "    </tr>\n",
       "    <tr>\n",
       "      <th>403613</th>\n",
       "      <td>60</td>\n",
       "      <td>5995440.0</td>\n",
       "    </tr>\n",
       "    <tr>\n",
       "      <th>1183785</th>\n",
       "      <td>389</td>\n",
       "      <td>389.0</td>\n",
       "    </tr>\n",
       "    <tr>\n",
       "      <th>...</th>\n",
       "      <td>...</td>\n",
       "      <td>...</td>\n",
       "    </tr>\n",
       "    <tr>\n",
       "      <th>19285</th>\n",
       "      <td>8841362</td>\n",
       "      <td>NaN</td>\n",
       "    </tr>\n",
       "    <tr>\n",
       "      <th>558837</th>\n",
       "      <td>4989159</td>\n",
       "      <td>NaN</td>\n",
       "    </tr>\n",
       "    <tr>\n",
       "      <th>559149</th>\n",
       "      <td>8841547</td>\n",
       "      <td>NaN</td>\n",
       "    </tr>\n",
       "    <tr>\n",
       "      <th>706678</th>\n",
       "      <td>8841643</td>\n",
       "      <td>NaN</td>\n",
       "    </tr>\n",
       "    <tr>\n",
       "      <th>405466</th>\n",
       "      <td>8841735</td>\n",
       "      <td>NaN</td>\n",
       "    </tr>\n",
       "  </tbody>\n",
       "</table>\n",
       "<p>532751 rows × 2 columns</p>\n",
       "</div>"
      ],
      "text/plain": [
       "          corpus-id  custom_id\n",
       "query-id                      \n",
       "1185869           0  7624917.0\n",
       "1185868          16  3020376.0\n",
       "597651           49  4944584.0\n",
       "403613           60  5995440.0\n",
       "1183785         389      389.0\n",
       "...             ...        ...\n",
       "19285       8841362        NaN\n",
       "558837      4989159        NaN\n",
       "559149      8841547        NaN\n",
       "706678      8841643        NaN\n",
       "405466      8841735        NaN\n",
       "\n",
       "[532751 rows x 2 columns]"
      ]
     },
     "execution_count": 17,
     "metadata": {},
     "output_type": "execute_result"
    }
   ],
   "source": [
    "train_set"
   ]
  },
  {
   "cell_type": "code",
   "execution_count": null,
   "metadata": {},
   "outputs": [],
   "source": []
  }
 ],
 "metadata": {
  "kernelspec": {
   "display_name": "ADA",
   "language": "python",
   "name": "python3"
  },
  "language_info": {
   "codemirror_mode": {
    "name": "ipython",
    "version": 3
   },
   "file_extension": ".py",
   "mimetype": "text/x-python",
   "name": "python",
   "nbconvert_exporter": "python",
   "pygments_lexer": "ipython3",
   "version": "3.11.5"
  }
 },
 "nbformat": 4,
 "nbformat_minor": 2
}
