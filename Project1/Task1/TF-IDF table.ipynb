{
 "cells": [
  {
   "cell_type": "code",
   "execution_count": 1,
   "id": "ad4e12b663e09f08",
   "metadata": {
    "ExecuteTime": {
     "end_time": "2023-10-05T18:02:55.667024Z",
     "start_time": "2023-10-05T18:02:55.636302Z"
    },
    "collapsed": false
   },
   "outputs": [],
   "source": [
    "import math\n",
    "from collections import Counter\n",
    "import pandas as pd\n",
    "import os"
   ]
  },
  {
   "cell_type": "code",
   "execution_count": 2,
   "id": "ce417fd8c91971f5",
   "metadata": {
    "ExecuteTime": {
     "end_time": "2023-10-05T18:02:55.684779Z",
     "start_time": "2023-10-05T18:02:55.649775Z"
    },
    "collapsed": false
   },
   "outputs": [],
   "source": [
    "def parse(row):\n",
    "        return (row['_id'], str(row['tokens']).split(\",\"))\n",
    "\n",
    "# Load tokenized documents from the file\n",
    "def load_tokenized_documents():\n",
    "    files_paths=os.listdir(\"Data/\")\n",
    "    corpus_tokens_paths= [f\"Data/{path}\" for path in files_paths if 'corpus_tokens' in path]\n",
    "    corpus_tokens_paths.sort()\n",
    "    dfs = [pd.read_csv(path) for path in corpus_tokens_paths]\n",
    "    corpus_tokens = pd.concat(dfs, ignore_index=True)\n",
    "\n",
    "\n",
    "    return corpus_tokens.apply(parse, axis=1).to_numpy()"
   ]
  },
  {
   "cell_type": "code",
   "execution_count": 3,
   "id": "b309e932a2de533c",
   "metadata": {
    "ExecuteTime": {
     "end_time": "2023-10-05T18:02:55.685211Z",
     "start_time": "2023-10-05T18:02:55.657369Z"
    },
    "collapsed": false
   },
   "outputs": [],
   "source": [
    "\n",
    "s = 0.2 ## bias for normalization\n",
    "\n",
    "# Compute Term Frequency (TF) for each term in a document and normalize it using the pivoted unique query normalization\n",
    "def compute_tf(document, average_number_words):\n",
    "    word_counts = Counter(document)\n",
    "    unique_words_count = len(set(document))\n",
    "    tf = {word: (count / max(word_counts.values())) / ((1.0-s)*average_number_words + s*unique_words_count) for word, count in word_counts.items()}\n",
    "    return tf"
   ]
  },
  {
   "cell_type": "code",
   "execution_count": 4,
   "id": "e996c63206314bac",
   "metadata": {
    "ExecuteTime": {
     "end_time": "2023-10-05T18:02:55.686540Z",
     "start_time": "2023-10-05T18:02:55.669470Z"
    },
    "collapsed": false
   },
   "outputs": [],
   "source": [
    "import math\n",
    "from collections import defaultdict\n",
    "\n",
    "# Compute Inverse Document Frequency (IDF) for each term in all documents\n",
    "def compute_idf(documents):\n",
    "    total_documents = len(documents)\n",
    "    word_document_count = defaultdict(int)\n",
    "\n",
    "\n",
    "    average_number_words = 0 #global variable to compute average number f words per document\n",
    "\n",
    "    for _, document in documents:\n",
    "        unique_words = set(document)\n",
    "        average_number_words += len(unique_words)\n",
    "        for word in unique_words:\n",
    "            word_document_count[word] += 1\n",
    "    average_number_words = average_number_words / total_documents\n",
    "\n",
    "    idf = {}\n",
    "    for word, count in word_document_count.items():\n",
    "        idf[word] = math.log(total_documents / (count))\n",
    "\n",
    "    return average_number_words, idf"
   ]
  },
  {
   "cell_type": "code",
   "execution_count": 5,
   "id": "841d8a5982efb79b",
   "metadata": {
    "ExecuteTime": {
     "end_time": "2023-10-05T18:02:55.701700Z",
     "start_time": "2023-10-05T18:02:55.681764Z"
    },
    "collapsed": false
   },
   "outputs": [],
   "source": [
    "\n",
    "# Compute TF-IDF weights for each term in all documents\n",
    "def compute_tfidf(documents, idf, average_number_words):\n",
    "    tfidf_matrix = []\n",
    "    for document_id, document in documents:\n",
    "        tfidf = {}\n",
    "        tf = compute_tf(document, average_number_words)\n",
    "        tfidf['_id'] = document_id\n",
    "        tfidf.update({word: tf[word] * idf[word] for word in tf.keys()})\n",
    "        tfidf_matrix.append(tfidf)\n",
    "    return tfidf_matrix"
   ]
  },
  {
   "cell_type": "code",
   "execution_count": 3,
   "id": "121828f566cc24a4",
   "metadata": {
    "ExecuteTime": {
     "end_time": "2023-10-05T18:03:01.743981Z",
     "start_time": "2023-10-05T18:02:55.690488Z"
    },
    "collapsed": false
   },
   "outputs": [],
   "source": [
    "documents = load_tokenized_documents()\n",
    "# Compute IDF values\n",
    "average_number_words, idf = compute_idf(documents)\n",
    "\n",
    "# Compute TF-IDF matrix\n",
    "tfidf_matrix = compute_tfidf(documents, idf, average_number_words)"
   ]
  },
  {
   "cell_type": "code",
   "execution_count": 7,
   "id": "7425cdd720a35eca",
   "metadata": {
    "ExecuteTime": {
     "end_time": "2023-10-05T18:03:02.364291Z",
     "start_time": "2023-10-05T18:03:01.767655Z"
    },
    "collapsed": false
   },
   "outputs": [
    {
     "data": {
      "text/plain": [
       "[{'_id': 1867825,\n",
       "  'after': 0.045143936544719286,\n",
       "  'invent': 0.057796887331617336,\n",
       "  'cotton': 0.2577714393170704,\n",
       "  'gin': 0.08227795507061093,\n",
       "  'becam': 0.04862125333963856,\n",
       "  'americaâ\\x80\\x99': 0.07378541271548032,\n",
       "  'lead': 0.040920434541537744,\n",
       "  'crop': 0.06173035925043257,\n",
       "  'king': 0.051467023463162336,\n",
       "  'in': 0.02382279342620056,\n",
       "  '1790': 0.08341432873009207,\n",
       "  'america': 0.044722088583476545,\n",
       "  'produc': 0.03676162434783516,\n",
       "  '1500': 0.05940642318746022,\n",
       "  'pound': 0.09673792591930626,\n",
       "  'by': 0.04468773609115413,\n",
       "  '1800': 0.06500439969774575,\n",
       "  'product': 0.03442392774520331,\n",
       "  'increas': 0.037255966197012644,\n",
       "  '35000': 0.07538886242997951},\n",
       " {'_id': 419610,\n",
       "  'timer': 0.07643529357101413,\n",
       "  'separ': 0.044711526377267434,\n",
       "  'night': 0.13565654896419382,\n",
       "  'day': 0.027602145212891428,\n",
       "  'outlet': 0.1290334543902686,\n",
       "  'nice': 0.057509240126138235,\n",
       "  'time': 0.024096932643871912,\n",
       "  'set': 0.03404171519687969,\n",
       "  'rotat': 0.056069135553502375,\n",
       "  '24': 0.043383165989344906,\n",
       "  'hr': 0.06223253308111436,\n",
       "  'dial': 0.06586804333389526,\n",
       "  'pin': 0.24412098821537503,\n",
       "  'around': 0.06653064896604918,\n",
       "  'outer': 0.055331681078719865,\n",
       "  'perimet': 0.15149411704484683,\n",
       "  'for': 0.030089345443542078,\n",
       "  'oper': 0.03922191034034428,\n",
       "  'one': 0.020587744800233107,\n",
       "  'rais': 0.04815728557176251,\n",
       "  '12': 0.036341595133632616,\n",
       "  'hour': 0.03295931230750345,\n",
       "  'per': 0.031135955502002714,\n",
       "  'the': 0.01041053716204022,\n",
       "  'turn': 0.04035193109409523},\n",
       " {'_id': 4614226,\n",
       "  'the': 0.04294544321144231,\n",
       "  'rosebuy': 0.5555980163466872,\n",
       "  'public': 0.16683580833991785,\n",
       "  'still': 0.1604946014587416,\n",
       "  'encount': 0.25636510850833166,\n",
       "  'wide': 0.1713534975997492,\n",
       "  'varieti': 0.1712602089294543,\n",
       "  'price': 0.1518221062514744,\n",
       "  'anyth': 0.20572166276541964,\n",
       "  '10': 0.13317768197430482,\n",
       "  'dozen': 0.26573883642184687,\n",
       "  'red': 0.1673421363380614,\n",
       "  'rose': 0.23747743088445897,\n",
       "  'local': 0.16535681505715763,\n",
       "  'corner': 0.22802711051912777,\n",
       "  'store': 0.1666904544597082,\n",
       "  '20': 0.15293425465305385,\n",
       "  'supermarket': 0.2957315944661935,\n",
       "  '90': 0.20025125000077607,\n",
       "  'highend': 0.3095326602632226,\n",
       "  'florist': 0.3631192238179515},\n",
       " {'_id': 4108603,\n",
       "  'map': 0.19174203271844584,\n",
       "  'wendov': 0.13259357336665728,\n",
       "  'aut': 0.1343612781083558,\n",
       "  'airport': 0.06180494475811523,\n",
       "  'detail': 0.01740343467490036,\n",
       "  'env': 0.041159269591285894,\n",
       "  'present': 0.016425083738099065,\n",
       "  'you': 0.012012115868424184,\n",
       "  'may': 0.009426601070759245,\n",
       "  'use': 0.007087607222589252,\n",
       "  'navig': 0.023644752393510285,\n",
       "  'tool': 0.01832022715418794,\n",
       "  'adjust': 0.02069499606796944,\n",
       "  'scope': 0.025469949895423106,\n",
       "  'zoom': 0.030592109460180105,\n",
       "  'level': 0.013974386289678,\n",
       "  'click': 0.01638804133940775,\n",
       "  'type': 0.02333185775268863,\n",
       "  'button': 0.020266679578108363,\n",
       "  'select': 0.016229914398784476,\n",
       "  'street': 0.020172929043333263,\n",
       "  'satellit': 0.025223762545714297,\n",
       "  'hybrid': 0.025770319747696252,\n",
       "  'avail': 0.015002197556249378},\n",
       " {'_id': 3744854,\n",
       "  'and': 0.036278840792249654,\n",
       "  'poem': 0.05701860254807839,\n",
       "  'reaper': 0.07894272593607335,\n",
       "  'cotton': 0.10983077707999202,\n",
       "  'song': 0.08572488264745055,\n",
       "  'indic': 0.03817658477281398,\n",
       "  'black': 0.1538431619897743,\n",
       "  'labor': 0.0431800457590487,\n",
       "  'produc': 0.03132664952752282,\n",
       "  'laborblack': 0.11929751456906329,\n",
       "  'birth': 0.04246458285107109,\n",
       "  'sourc': 0.034057760867384206,\n",
       "  'south': 0.03561943619567742,\n",
       "  'econom': 0.044478519533089414,\n",
       "  'fecund': 0.08896504354552598,\n",
       "  'cynic': 0.07981248944765386,\n",
       "  'underscor': 0.07796863851057792,\n",
       "  'picker': 0.08004476813499321,\n",
       "  'pun': 0.07650894000023133,\n",
       "  'hump': 0.07526573558836089,\n",
       "  'roll': 0.04685499853852129,\n",
       "  'away': 0.03829728964097515,\n",
       "  '15': 0.03350099046826931,\n",
       "  'ithin': 0.1008403653243024,\n",
       "  'commun': 0.034363415206638,\n",
       "  'cours': 0.03788038350784376,\n",
       "  'understand': 0.03959591407708486,\n",
       "  'differentbi': 0.11929751456906329,\n",
       "  '1920': 0.05754623711358587,\n",
       "  'estim': 0.03720194426769215,\n",
       "  '70': 0.04409700533431206,\n",
       "  'percent': 0.03660849168933185,\n",
       "  'africanamerican': 0.06248916229643633,\n",
       "  'mix': 0.04078908738576723,\n",
       "  'race': 0.0468761653871544,\n",
       "  'huge': 0.04930234841835892,\n",
       "  'total': 0.03250064361556296,\n",
       "  'noth': 0.04698434044776342,\n",
       "  'men': 0.040557602196184324,\n",
       "  'rape': 0.06590487145041664,\n",
       "  'white': 0.03531697024909135,\n",
       "  'women': 0.037523370968786135},\n",
       " {'_id': 2341057,\n",
       "  'israel': 0.09093451000291158,\n",
       "  'doomsday': 0.13201909473718934,\n",
       "  'clock': 0.08300106295686774,\n",
       "  'reset': 0.08936930497048858,\n",
       "  '14': 0.05681850786415435,\n",
       "  'sept': 0.09239678549212679,\n",
       "  '2007': 0.07073955042086558,\n",
       "  'first': 0.03506092253835176,\n",
       "  'time': 0.0642584870503251,\n",
       "  'histori': 0.053883962849997406,\n",
       "  'accur': 0.07219774339890701,\n",
       "  'view': 0.05406747851468284,\n",
       "  'much': 0.04373346199145188,\n",
       "  'left': 0.05593913640995406,\n",
       "  'biblic': 0.28417589658093934,\n",
       "  'apocalyps': 0.12037404366647311,\n",
       "  'begin': 0.05168786983718579,\n",
       "  'although': 0.054638448420347326,\n",
       "  'gener': 0.080496428885413,\n",
       "  'usual': 0.041769394624055274,\n",
       "  '40': 0.058116327479961226,\n",
       "  'year': 0.06354003110565574,\n",
       "  'also': 0.028654546703371035,\n",
       "  'mean': 0.038543493768491616,\n",
       "  '70': 0.06637937732351608},\n",
       " {'_id': 1719583,\n",
       "  'final': 0.06149164093378068,\n",
       "  'fold': 0.16577144915061126,\n",
       "  'bend': 0.08417514876136639,\n",
       "  'toward': 0.06696263089524057,\n",
       "  'earth': 0.05981179943751953,\n",
       "  'known': 0.04205853128937043,\n",
       "  'synclin': 0.4336204788509554,\n",
       "  'thi': 0.032960996712441,\n",
       "  'kind': 0.06027752188685245,\n",
       "  'center': 0.10626993379168899,\n",
       "  'call': 0.07532760315915264,\n",
       "  'hing': 0.09987332932258725,\n",
       "  'unlik': 0.0708408018012556,\n",
       "  'anticlin': 0.1415406163944598,\n",
       "  'youngest': 0.09239366753638832,\n",
       "  'rock': 0.1268374479743056,\n",
       "  'older': 0.06537098397358442,\n",
       "  'outsid': 0.06263165057582905,\n",
       "  'the': 0.014094585195901895,\n",
       "  'depress': 0.07121554908733675,\n",
       "  'form': 0.04002415102107626,\n",
       "  'sometim': 0.053546352575444545,\n",
       "  'basin': 0.0898946024605216},\n",
       " {'_id': 1458591,\n",
       "  'lead': 0.03966910052207922,\n",
       "  'loan': 0.20692080607001692,\n",
       "  'close': 0.04069433641503642,\n",
       "  'process': 0.03399641999583372,\n",
       "  'complet': 0.03720952191659278,\n",
       "  'applic': 0.04057523946466828,\n",
       "  'discuss': 0.04949980710852763,\n",
       "  'option': 0.0417599268148393,\n",
       "  'lender': 0.06208983246656451,\n",
       "  'receiv': 0.07797646682306399,\n",
       "  'good': 0.03440792123504017,\n",
       "  'faith': 0.06410660017736398,\n",
       "  'estim': 0.042321251170997144,\n",
       "  'gfe': 0.10387082484789278,\n",
       "  'submit': 0.05299501330963311,\n",
       "  'financi': 0.04688985528361161,\n",
       "  'document': 0.045426431770678004,\n",
       "  'conduct': 0.050935084683683865,\n",
       "  'home': 0.03394575304005503,\n",
       "  'apprais': 0.0686792464669564,\n",
       "  'final': 0.045766156630032105,\n",
       "  'underwrit': 0.07767894172873203,\n",
       "  'review': 0.0450707476344369,\n",
       "  'approv': 0.050480785779799184},\n",
       " {'_id': 7078673,\n",
       "  'address': 0.17993736214013686,\n",
       "  'sheraton': 0.09336672488647074,\n",
       "  'mall': 0.20586267407696937,\n",
       "  'sargeant': 0.11942088059734068,\n",
       "  'villag': 0.053407780671836554,\n",
       "  'christ': 0.06874698162998176,\n",
       "  'church': 0.1123393905367094,\n",
       "  'barbado': 0.3381286118292373,\n",
       "  'tel': 0.329740463567795,\n",
       "  '246': 0.33736989454075617,\n",
       "  '4340928': 0.13468422639987843,\n",
       "  'sky': 0.05904350335611645,\n",
       "  'haggat': 0.13468422639987843,\n",
       "  'hall': 0.058018915020164694,\n",
       "  '4277700': 0.13468422639987843,\n",
       "  'the': 0.01041053716204022,\n",
       "  'dome': 0.07419346514410896,\n",
       "  'warren': 0.07157857308220626,\n",
       "  'st': 0.10046393961116777,\n",
       "  'michael': 0.056381452441854156,\n",
       "  '4219554': 0.13468422639987843,\n",
       "  'street': 0.0500496966126863,\n",
       "  'speightstown': 0.13468422639987843,\n",
       "  'peter': 0.06216888418471634,\n",
       "  '4226650': 0.13468422639987843},\n",
       " {'_id': 533224,\n",
       "  'madagascar': 0.30698608769775904,\n",
       "  'weather': 0.1679536757222694,\n",
       "  'today': 0.10761843648605207,\n",
       "  'here': 0.0561485793000581,\n",
       "  'thursday': 0.07407038858068972,\n",
       "  '18th': 0.08408889305064131,\n",
       "  'august': 0.060517061645302135,\n",
       "  '2016': 0.05804227104757594,\n",
       "  'expect': 0.10993895397681572,\n",
       "  'broken': 0.07062467120125436,\n",
       "  'cloud': 0.07438825337797235,\n",
       "  'maximum': 0.06035292947693565,\n",
       "  'temperatur': 0.04827692852510627,\n",
       "  '21â°c': 0.11192851728018507,\n",
       "  'hour': 0.04265137933640318,\n",
       "  'bright': 0.07330998130849206,\n",
       "  'sunshin': 0.08032784260835854,\n",
       "  'there': 0.041701691563945854,\n",
       "  'mm': 0.0764608765851451,\n",
       "  'rainfal': 0.07888364904578778,\n",
       "  'gentl': 0.08633273238898957,\n",
       "  'breez': 0.09578382927285886,\n",
       "  '19': 0.06415710674269057,\n",
       "  'kph': 0.1100912827870438,\n",
       "  'southeast': 0.07579711760375749,\n",
       "  'the': 0.013471876034646939,\n",
       "  'forecast': 0.07201138241403403,\n",
       "  'shown': 0.06341958935676614,\n",
       "  'antananarivo': 0.14281152749869352}]"
      ]
     },
     "execution_count": 7,
     "metadata": {},
     "output_type": "execute_result"
    }
   ],
   "source": [
    "tfidf_matrix[:10] #test, print words weights of first 10 documents"
   ]
  },
  {
   "cell_type": "code",
   "execution_count": 8,
   "id": "c8e63afd",
   "metadata": {},
   "outputs": [
    {
     "name": "stdout",
     "output_type": "stream",
     "text": [
      "1.3211407779297357\n"
     ]
    }
   ],
   "source": [
    "print(sum(n for _, n in list(tfidf_matrix[0].items())[1:])) ##test, need sum of values close to 1"
   ]
  },
  {
   "cell_type": "code",
   "execution_count": 5,
   "id": "26897be1",
   "metadata": {},
   "outputs": [
    {
     "name": "stdout",
     "output_type": "stream",
     "text": [
      "mapping done\n",
      "fitting done\n"
     ]
    },
    {
     "ename": "MemoryError",
     "evalue": "Unable to allocate 10.5 TiB for an array with shape (1471406, 985321) and data type float64",
     "output_type": "error",
     "traceback": [
      "\u001b[1;31m---------------------------------------------------------------------------\u001b[0m",
      "\u001b[1;31mMemoryError\u001b[0m                               Traceback (most recent call last)",
      "\u001b[1;32m<ipython-input-5-8c5744144e86>\u001b[0m in \u001b[0;36m<module>\u001b[1;34m\u001b[0m\n\u001b[0;32m     14\u001b[0m \u001b[0mprint\u001b[0m\u001b[1;33m(\u001b[0m\u001b[1;34m\"fitting done\"\u001b[0m\u001b[1;33m)\u001b[0m\u001b[1;33m\u001b[0m\u001b[1;33m\u001b[0m\u001b[0m\n\u001b[0;32m     15\u001b[0m \u001b[1;33m\u001b[0m\u001b[0m\n\u001b[1;32m---> 16\u001b[1;33m \u001b[0mprint\u001b[0m\u001b[1;33m(\u001b[0m\u001b[0mnp\u001b[0m\u001b[1;33m.\u001b[0m\u001b[0mwhere\u001b[0m\u001b[1;33m(\u001b[0m\u001b[0mfeatures\u001b[0m\u001b[1;33m.\u001b[0m\u001b[0mtoarray\u001b[0m\u001b[1;33m(\u001b[0m\u001b[1;33m)\u001b[0m\u001b[1;33m[\u001b[0m\u001b[1;36m0\u001b[0m\u001b[1;33m]\u001b[0m \u001b[1;33m==\u001b[0m \u001b[1;36m0\u001b[0m\u001b[1;33m)\u001b[0m\u001b[1;33m[\u001b[0m\u001b[1;36m0\u001b[0m\u001b[1;33m]\u001b[0m\u001b[1;33m)\u001b[0m\u001b[1;33m\u001b[0m\u001b[1;33m\u001b[0m\u001b[0m\n\u001b[0m",
      "\u001b[1;32mc:\\ProgramData\\Anaconda3\\lib\\site-packages\\scipy\\sparse\\compressed.py\u001b[0m in \u001b[0;36mtoarray\u001b[1;34m(self, order, out)\u001b[0m\n\u001b[0;32m   1023\u001b[0m         \u001b[1;32mif\u001b[0m \u001b[0mout\u001b[0m \u001b[1;32mis\u001b[0m \u001b[1;32mNone\u001b[0m \u001b[1;32mand\u001b[0m \u001b[0morder\u001b[0m \u001b[1;32mis\u001b[0m \u001b[1;32mNone\u001b[0m\u001b[1;33m:\u001b[0m\u001b[1;33m\u001b[0m\u001b[1;33m\u001b[0m\u001b[0m\n\u001b[0;32m   1024\u001b[0m             \u001b[0morder\u001b[0m \u001b[1;33m=\u001b[0m \u001b[0mself\u001b[0m\u001b[1;33m.\u001b[0m\u001b[0m_swap\u001b[0m\u001b[1;33m(\u001b[0m\u001b[1;34m'cf'\u001b[0m\u001b[1;33m)\u001b[0m\u001b[1;33m[\u001b[0m\u001b[1;36m0\u001b[0m\u001b[1;33m]\u001b[0m\u001b[1;33m\u001b[0m\u001b[1;33m\u001b[0m\u001b[0m\n\u001b[1;32m-> 1025\u001b[1;33m         \u001b[0mout\u001b[0m \u001b[1;33m=\u001b[0m \u001b[0mself\u001b[0m\u001b[1;33m.\u001b[0m\u001b[0m_process_toarray_args\u001b[0m\u001b[1;33m(\u001b[0m\u001b[0morder\u001b[0m\u001b[1;33m,\u001b[0m \u001b[0mout\u001b[0m\u001b[1;33m)\u001b[0m\u001b[1;33m\u001b[0m\u001b[1;33m\u001b[0m\u001b[0m\n\u001b[0m\u001b[0;32m   1026\u001b[0m         \u001b[1;32mif\u001b[0m \u001b[1;32mnot\u001b[0m \u001b[1;33m(\u001b[0m\u001b[0mout\u001b[0m\u001b[1;33m.\u001b[0m\u001b[0mflags\u001b[0m\u001b[1;33m.\u001b[0m\u001b[0mc_contiguous\u001b[0m \u001b[1;32mor\u001b[0m \u001b[0mout\u001b[0m\u001b[1;33m.\u001b[0m\u001b[0mflags\u001b[0m\u001b[1;33m.\u001b[0m\u001b[0mf_contiguous\u001b[0m\u001b[1;33m)\u001b[0m\u001b[1;33m:\u001b[0m\u001b[1;33m\u001b[0m\u001b[1;33m\u001b[0m\u001b[0m\n\u001b[0;32m   1027\u001b[0m             \u001b[1;32mraise\u001b[0m \u001b[0mValueError\u001b[0m\u001b[1;33m(\u001b[0m\u001b[1;34m'Output array must be C or F contiguous'\u001b[0m\u001b[1;33m)\u001b[0m\u001b[1;33m\u001b[0m\u001b[1;33m\u001b[0m\u001b[0m\n",
      "\u001b[1;32mc:\\ProgramData\\Anaconda3\\lib\\site-packages\\scipy\\sparse\\base.py\u001b[0m in \u001b[0;36m_process_toarray_args\u001b[1;34m(self, order, out)\u001b[0m\n\u001b[0;32m   1187\u001b[0m             \u001b[1;32mreturn\u001b[0m \u001b[0mout\u001b[0m\u001b[1;33m\u001b[0m\u001b[1;33m\u001b[0m\u001b[0m\n\u001b[0;32m   1188\u001b[0m         \u001b[1;32melse\u001b[0m\u001b[1;33m:\u001b[0m\u001b[1;33m\u001b[0m\u001b[1;33m\u001b[0m\u001b[0m\n\u001b[1;32m-> 1189\u001b[1;33m             \u001b[1;32mreturn\u001b[0m \u001b[0mnp\u001b[0m\u001b[1;33m.\u001b[0m\u001b[0mzeros\u001b[0m\u001b[1;33m(\u001b[0m\u001b[0mself\u001b[0m\u001b[1;33m.\u001b[0m\u001b[0mshape\u001b[0m\u001b[1;33m,\u001b[0m \u001b[0mdtype\u001b[0m\u001b[1;33m=\u001b[0m\u001b[0mself\u001b[0m\u001b[1;33m.\u001b[0m\u001b[0mdtype\u001b[0m\u001b[1;33m,\u001b[0m \u001b[0morder\u001b[0m\u001b[1;33m=\u001b[0m\u001b[0morder\u001b[0m\u001b[1;33m)\u001b[0m\u001b[1;33m\u001b[0m\u001b[1;33m\u001b[0m\u001b[0m\n\u001b[0m\u001b[0;32m   1190\u001b[0m \u001b[1;33m\u001b[0m\u001b[0m\n\u001b[0;32m   1191\u001b[0m \u001b[1;33m\u001b[0m\u001b[0m\n",
      "\u001b[1;31mMemoryError\u001b[0m: Unable to allocate 10.5 TiB for an array with shape (1471406, 985321) and data type float64"
     ]
    }
   ],
   "source": [
    "\n",
    "import numpy as np\n",
    "from sklearn.feature_extraction.text import CountVectorizer, TfidfVectorizer\n",
    "\n",
    "def joinDocument(document):\n",
    "    return ' '.join(document[1])\n",
    "\n",
    "b = list(map(joinDocument, documents))\n",
    "\n",
    "print(\"mapping done\")\n",
    "\n",
    "tf = TfidfVectorizer(analyzer='word', ngram_range=(1,1), min_df = 1, stop_words = 'english')\n",
    "features = tf.fit_transform(b)\n",
    "\n",
    "print(\"fitting done\")\n",
    "\n",
    "print(np.where(features.toarray()[0] == 0)[0]) # print non-zero indices of first document"
   ]
  },
  {
   "cell_type": "code",
   "execution_count": 8,
   "id": "ab8f1ce3037b04c3",
   "metadata": {
    "ExecuteTime": {
     "end_time": "2023-10-05T18:03:07.953295Z",
     "start_time": "2023-10-05T18:03:02.304873Z"
    },
    "collapsed": false
   },
   "outputs": [
    {
     "name": "stdout",
     "output_type": "stream",
     "text": [
      "TF-IDF matrix has been exported to tfidf_matrix.csv\n"
     ]
    }
   ],
   "source": [
    "# Reorder columns so that 'document_id' is the first column\n",
    "df = df[['document_id'] + [col for col in df.columns if col != 'document_id']]\n",
    "\n",
    "# Export the DataFrame to a CSV file\n",
    "output_csv_file = \"tfidf_matrix.csv\"\n",
    "df.to_csv(output_csv_file, index=False)\n",
    "\n",
    "print(f\"TF-IDF matrix has been exported to {output_csv_file}\")\n"
   ]
  },
  {
   "cell_type": "code",
   "execution_count": null,
   "id": "f11c6d4f",
   "metadata": {},
   "outputs": [],
   "source": []
  }
 ],
 "metadata": {
  "kernelspec": {
   "display_name": "base",
   "language": "python",
   "name": "python3"
  },
  "language_info": {
   "codemirror_mode": {
    "name": "ipython",
    "version": 3
   },
   "file_extension": ".py",
   "mimetype": "text/x-python",
   "name": "python",
   "nbconvert_exporter": "python",
   "pygments_lexer": "ipython3",
   "version": "3.7.7"
  }
 },
 "nbformat": 4,
 "nbformat_minor": 5
}
