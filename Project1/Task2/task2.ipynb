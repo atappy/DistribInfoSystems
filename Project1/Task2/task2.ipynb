{
 "cells": [
  {
   "cell_type": "markdown",
   "metadata": {},
   "source": [
    "\n"
   ]
  },
  {
   "cell_type": "markdown",
   "metadata": {},
   "source": [
    "Import tools"
   ]
  },
  {
   "cell_type": "code",
   "execution_count": 2,
   "metadata": {},
   "outputs": [
    {
     "name": "stderr",
     "output_type": "stream",
     "text": [
      "[nltk_data] Downloading package stopwords to\n",
      "[nltk_data]     C:\\Users\\Antoine\\AppData\\Roaming\\nltk_data...\n",
      "[nltk_data]   Package stopwords is already up-to-date!\n"
     ]
    }
   ],
   "source": [
    "import pandas as pd\n",
    "from nltk.stem import PorterStemmer, WordNetLemmatizer\n",
    "from rank_bm25 import BM25L\n",
    "import nltk\n",
    "from sklearn.feature_extraction.text import CountVectorizer, TfidfVectorizer\n",
    "from sklearn.metrics.pairwise import linear_kernel\n",
    "import string\n",
    "from nltk.corpus import stopwords\n",
    "import math\n",
    "import pickle\n",
    "import os\n",
    "from operator import itemgetter\n",
    "from collections import Counter\n",
    "nltk.download('stopwords')\n",
    "stemmer = PorterStemmer()\n",
    "\n",
    "FLAG_TOKENIZE = False"
   ]
  },
  {
   "cell_type": "markdown",
   "metadata": {},
   "source": [
    "Import data"
   ]
  },
  {
   "cell_type": "code",
   "execution_count": 3,
   "metadata": {},
   "outputs": [],
   "source": [
    "# Import corpus and queries as a dataframe\n",
    "corpus = pd.read_json('Data/corpus.jsonl', lines=True)\n",
    "queries = pd.read_json('Data/queries.jsonl', lines=True)"
   ]
  },
  {
   "cell_type": "code",
   "execution_count": 76,
   "metadata": {
    "ExecuteTime": {
     "end_time": "2023-10-16T14:28:25.744822Z",
     "start_time": "2023-10-16T14:28:25.576546Z"
    }
   },
   "outputs": [],
   "source": [
    "test_corpus_id = [1396701, 1396704, 1396705, 1396707, 1396708, 1453630, 1605506, \n",
    "                  1652605, 1772930, 1772932, 1815965, 1907207, 1972028, 2025485, \n",
    "                  2077310, 210379, 210384, 2210591, 2210592, 2210593, 2210595, \n",
    "                  2210597, 2232789, 2393704, 2401465, 252142, 2588143, 2627023, \n",
    "                  275724, 275726, 275728, 275732, 2872589, 2923493, 2923494, 2923496, \n",
    "                  2923497, 2923498, 2923501, 2969050, 3143377, 3203819, 3305804, 3357360, \n",
    "                  3385968, 3385971, 3450898, 3485337, 3523599, 3523602, 3538160, 3538161, \n",
    "                  3538162, 3538163, 3538164, 3538165, 3538166, 3538167, 3538168, 3545107, \n",
    "                  3573471, 3573474, 3573477, 3573478, 3573479, 3918680, 3930148, 4044822, \n",
    "                  4245927, 4257001, 4272446, 4279298, 4279299, 4289598, 4378740, 4393631, \n",
    "                  4549698, 4566815, 4566816, 4566818, 4566819, 4566822, 4566823, 4656722, \n",
    "                  4691129, 4801563, 4834224, 4834226, 4889894, 4910037, 4927817, 4998398, \n",
    "                  5007631, 5063813, 5117497, 5359304, 5379124, 5568031, 5652031, 5702414, \n",
    "                  5774013, 5774014, 5866302, 5931262, 5931263, 5931264, 5931265, 5931266, \n",
    "                  5931267, 5931268, 5931269, 5931270, 5931271, 6142152, 6181638, 6226401, \n",
    "                  6260059, 6263225, 6351110, 6462880, 6521993, 6761344, 6761347, 6923052, \n",
    "                  6923054, 6923055, 6923056, 6944106, 7082922, 7176430, 7313730, 7313733, \n",
    "                  7327683, 7565849, 7643828, 7709320, 7742098, 7816726, 7832420, 7837084, \n",
    "                  7837086, 7861747, 7861748, 7861749, 7861750, 7861751, 7861753, 7861755, \n",
    "                  7861756, 7885529, 8002846, 8002850, 8002851, 8002852, 8002853, 8002854, \n",
    "                  8002855, 8029524, 8029527, 8029530, 8029531, 8029533, 8103063, 8103065, \n",
    "                  8103066, 8103067, 8103068, 8178996, 8178997, 8178998, 8179000, 8179001, \n",
    "                  8179003, 82105, 82106, 82107, 82108, 82109, 82110, 82111, 82113, 82114, \n",
    "                  8304084, 8402970, 8402971, 8402972, 8420020, 8455300, 8455301, 850454, 94879, 98515]\n",
    "\n",
    "test_corpus_ranks = [0, 0, 1, 0, 2, 0, 3, 0, 0, 0, 2, 1, 2, 0, 0, 2, 3, 0, 0, 0, 0, 0, 0, 0, 0, 0, 3, 0, 2, 2, 3, 2, 0, 3, 2, 2, 2, 3, 2, 0, 0, 0, 0, 1, 3, 2, 0, 1, 0, 0, 3, 2, 0, 2, 0, 0, 0, 2, 3, 0, 0, 0, 0, 3, 0, 0, 0, 3, 0, 0, 0, 3, 0, 0, 0, 0, 0, 0, 0, 3, 0, 1, 0, 3, 0, 0, 0, 2, 0, 1, 0, 3, 0, 0, 3, 0, 0, 0, 0, 0, 2, 2, 0, 3, 2, 2, 2, 2, 2, 2, 3, 2, 2, 1, 2, 1, 0, 0, 0, 0, 2, 0, 2, 2, 0, 0, 0, 0, 0, 0, 3, 3, 0, 0, 0, 1, 0, 2, 2, 0, 0, 2, 2, 2, 3, 1, 2, 3, 2, 2, 2, 2, 2, 0, 3, 2, 2, 1, 2, 3, 1, 2, 0, 2, 2, 2, 0, 0, 0, 0, 0, 0, 0, 0, 3, 3, 3, 0, 3, 0, 3, 0, 0, 0, 2, 3, 0, 1, 0, 0, 0, 0]\n",
    "\n",
    "\n",
    "test_corpus_text = corpus[corpus['_id'].isin(test_corpus_id)]\n",
    "\n",
    "test_query_id = 915593\n",
    "\n",
    "test_query_text = queries[queries['_id']==test_query_id]"
   ]
  },
  {
   "cell_type": "code",
   "execution_count": 77,
   "metadata": {
    "ExecuteTime": {
     "end_time": "2023-10-16T14:28:27.356196Z",
     "start_time": "2023-10-16T14:28:27.145283Z"
    }
   },
   "outputs": [
    {
     "name": "stderr",
     "output_type": "stream",
     "text": [
      "[nltk_data] Downloading package punkt to\n",
      "[nltk_data]     /Users/mathiaskroismoller/nltk_data...\n",
      "[nltk_data]   Package punkt is already up-to-date!\n",
      "[nltk_data] Downloading package wordnet to\n",
      "[nltk_data]     /Users/mathiaskroismoller/nltk_data...\n",
      "[nltk_data]   Package wordnet is already up-to-date!\n",
      "[nltk_data] Downloading package stopwords to\n",
      "[nltk_data]     /Users/mathiaskroismoller/nltk_data...\n",
      "[nltk_data]   Package stopwords is already up-to-date!\n"
     ]
    }
   ],
   "source": [
    "nltk.download('punkt')  # Download the Punkt tokenizer data if you haven't already\n",
    "nltk.download('wordnet')\n",
    "\n",
    "from nltk.tokenize import word_tokenize\n",
    "from nltk.corpus import stopwords\n",
    "nltk.download('stopwords')  # Download the stopwords list if you haven't already\n",
    "\n",
    "stop_words = set(stopwords.words('english'))\n",
    "\n",
    "test_documents = [word_tokenize(document) for document in test_corpus_text['text']]\n",
    "test_documents = [list(filter(lambda x: x.lower() not in stop_words and x.isalpha() and x.isalpha(), doc)) for doc in test_documents]\n",
    "test_documents = list(map(lambda x : list(map(lambda y : stemmer.stem(y.lower()), x)), test_documents))\n",
    "bm25 = BM25L(corpus=test_documents)\n",
    "query = [word_tokenize(document) for document in test_query_text['text']]\n",
    "query = [list(filter(lambda x: x.lower() not in stop_words and x.isalpha(), doc)) for doc in query]\n",
    "query = list(map(lambda x : list(map(lambda y : stemmer.stem(y.lower()), x)), query))[0]\n",
    "scores = bm25.get_scores(query)"
   ]
  },
  {
   "cell_type": "code",
   "execution_count": 78,
   "metadata": {
    "ExecuteTime": {
     "end_time": "2023-10-16T14:28:27.772015Z",
     "start_time": "2023-10-16T14:28:27.763418Z"
    }
   },
   "outputs": [
    {
     "name": "stdout",
     "output_type": "stream",
     "text": [
      "[(465438, 3), (622472, 0), (4314173, 0), (64045, 0), (6150628, 0), (6816993, 2), (5232955, 0), (4314172, 3), (8108818, 2), (3025463, 3), (331549, 0), (5483597, 3), (7625204, 0), (5605160, 0), (2471196, 0), (2785222, 3), (4487937, 0), (2164297, 0), (235241, 0), (848507, 3), (4675180, 0), (5888683, 1), (600966, 0), (7615797, 0), (7210883, 0), (580734, 0), (7007569, 2), (8065457, 0), (3227499, 0), (414967, 0), (3081626, 2), (4606188, 0), (8188169, 2), (4314171, 2), (4902727, 3), (5257694, 0), (5264931, 0), (7129173, 2), (655776, 3), (1470412, 0), (3222646, 0), (5605159, 1), (5790943, 0), (8495256, 2), (612896, 3), (1593008, 0), (638673, 0), (5900625, 3), (2785223, 2), (4051141, 3), (6989198, 2), (6653839, 2), (6492656, 0), (5900622, 0), (660826, 2), (4487939, 0), (480791, 0), (5014104, 0), (3469357, 2), (2382279, 0), (2230480, 0), (5599692, 0), (3907355, 0), (5747664, 0), (580736, 2), (3203280, 3), (1540837, 2), (8106320, 0), (8106322, 2), (4314174, 0), (1732923, 2), (4314169, 0), (8106317, 0), (7650945, 0), (8108815, 2), (4314170, 0), (1886160, 3), (311302, 2), (2382274, 0), (8106318, 1), (6417117, 2), (8048541, 3), (1774971, 0), (2306826, 0), (5130842, 0), (8106321, 2), (1621981, 0), (1729571, 0), (6616844, 2), (8078183, 0), (1036904, 0), (1540838, 0), (480800, 0), (5357816, 0), (1856137, 2), (3203281, 2), (1589559, 3), (2364285, 0), (3330844, 0), (6248327, 0), (8495250, 1), (2595908, 2), (3344355, 1), (4314178, 3), (707642, 1), (1225084, 0), (1440035, 1), (8504500, 3), (3758868, 1), (6672301, 2), (4231618, 0), (6934013, 3), (7281526, 0), (8521280, 2), (6692795, 2), (3025466, 2), (7276300, 2), (23964, 0), (1729572, 2), (1729576, 1), (1732924, 0), (2382280, 0), (2451610, 3), (2495471, 2), (2966413, 0), (3374861, 3), (3673924, 0), (4049233, 0), (4131485, 2), (4166413, 2), (4314175, 0), (4314176, 0), (4984390, 0), (5694906, 3), (580737, 0), (5950737, 0), (646506, 2), (7165058, 1), (7165062, 0), (7165064, 0), (7248918, 0), (7318317, 2), (7320258, 2), (7436880, 0), (758999, 0), (7650937, 0), (7840022, 3), (8106323, 0), (8106324, 0), (8828147, 2), (986665, 2), (994192, 2)]\n"
     ]
    }
   ],
   "source": [
    "sorted_corpus_ids = sorted(enumerate(scores), key=lambda x: x[1], reverse=True)\n",
    "sorted_corpus_ids = [(test_corpus_id[x[0]], test_corpus_ranks[x[0]]) for x in sorted_corpus_ids]\n",
    "print(sorted_corpus_ids)"
   ]
  },
  {
   "cell_type": "markdown",
   "source": [
    "# Compute complete list of queries and .csv output"
   ],
   "metadata": {
    "collapsed": false
   }
  },
  {
   "cell_type": "code",
   "execution_count": 79,
   "outputs": [],
   "source": [
    "# Read the task2_test.tsv file\n",
    "test_data = pd.read_csv('/Users/mathiaskroismoller/DistribInfoSystems/Project1/Task2/Data/task2_test.tsv', delimiter='\\t')\n",
    "\n",
    "# Function to preprocess and rank documents for a given query\n",
    "def rank_documents(query, documents):\n",
    "    # Tokenize, filter stopwords, and stem the query\n",
    "    query_tokens = [stemmer.stem(token.lower()) for token in word_tokenize(query) if token.lower() not in stop_words and token.isalpha()]\n",
    "\n",
    "    # Tokenize, filter stopwords, and stem the documents\n",
    "    doc_tokens = [[stemmer.stem(token.lower()) for token in word_tokenize(doc) if token.lower() not in stop_words and token.isalpha()] for doc in documents]\n",
    "\n",
    "    bm25 = BM25L(corpus=doc_tokens)\n",
    "    scores = bm25.get_scores(query_tokens)\n",
    "    \n",
    "    return scores\n",
    "\n",
    "results = []"
   ],
   "metadata": {
    "collapsed": false,
    "ExecuteTime": {
     "end_time": "2023-10-16T14:32:45.167309Z",
     "start_time": "2023-10-16T14:32:45.023098Z"
    }
   }
  },
  {
   "cell_type": "markdown",
   "source": [
    "### Ranking function"
   ],
   "metadata": {
    "collapsed": false
   }
  },
  {
   "cell_type": "code",
   "execution_count": 80,
   "outputs": [
    {
     "data": {
      "text/plain": "     id  corpus-id                                              score\n0  7437         -1  [1.1217166209269143, 1.0122838799703053, 1.012...\n1  7438         -1  [9.093759939593262, 0.0, 0.0, 0.0, 0.0, 0.0, 0...\n2  7439         -1  [8.391079526234456, 8.016550911790427, 1.21074...\n3  7440         -1  [0.0, 1.0029426437798896, 0.0, 2.6048273068387...\n4  7441         -1  [7.186386273410823, 5.069382411282289, 2.91554...",
      "text/html": "<div>\n<style scoped>\n    .dataframe tbody tr th:only-of-type {\n        vertical-align: middle;\n    }\n\n    .dataframe tbody tr th {\n        vertical-align: top;\n    }\n\n    .dataframe thead th {\n        text-align: right;\n    }\n</style>\n<table border=\"1\" class=\"dataframe\">\n  <thead>\n    <tr style=\"text-align: right;\">\n      <th></th>\n      <th>id</th>\n      <th>corpus-id</th>\n      <th>score</th>\n    </tr>\n  </thead>\n  <tbody>\n    <tr>\n      <th>0</th>\n      <td>7437</td>\n      <td>-1</td>\n      <td>[1.1217166209269143, 1.0122838799703053, 1.012...</td>\n    </tr>\n    <tr>\n      <th>1</th>\n      <td>7438</td>\n      <td>-1</td>\n      <td>[9.093759939593262, 0.0, 0.0, 0.0, 0.0, 0.0, 0...</td>\n    </tr>\n    <tr>\n      <th>2</th>\n      <td>7439</td>\n      <td>-1</td>\n      <td>[8.391079526234456, 8.016550911790427, 1.21074...</td>\n    </tr>\n    <tr>\n      <th>3</th>\n      <td>7440</td>\n      <td>-1</td>\n      <td>[0.0, 1.0029426437798896, 0.0, 2.6048273068387...</td>\n    </tr>\n    <tr>\n      <th>4</th>\n      <td>7441</td>\n      <td>-1</td>\n      <td>[7.186386273410823, 5.069382411282289, 2.91554...</td>\n    </tr>\n  </tbody>\n</table>\n</div>"
     },
     "execution_count": 80,
     "metadata": {},
     "output_type": "execute_result"
    }
   ],
   "source": [
    "# Process each query and rerank documents\n",
    "for index, row in test_data.iterrows():\n",
    "    query_id = row['id']  \n",
    "    corpus_ids = row['corpus-id']\n",
    "    query_text = queries[queries['_id'] == row['query-id']]['text'].values[0]\n",
    "    corpus_ids = [int(id_str.strip()) for id_str in corpus_ids.strip('[]').split(',')]\n",
    "    documents = corpus[corpus['_id'].isin(corpus_ids)]['text'].tolist()\n",
    "    \n",
    "    # Rank documents for the query\n",
    "    scores = rank_documents(query_text, documents)\n",
    "    \n",
    "    # Store results in the desired format\n",
    "    score_str = '[' + ', '.join(map(str, scores)) + ']' \n",
    "    result = {\n",
    "        'id': query_id,\n",
    "        'corpus-id': -1,\n",
    "        'score': score_str\n",
    "    }\n",
    "    results.append(result)\n",
    "\n",
    "result_df = pd.DataFrame(results)\n",
    "result_df.head()"
   ],
   "metadata": {
    "collapsed": false,
    "ExecuteTime": {
     "end_time": "2023-10-16T14:33:01.484952Z",
     "start_time": "2023-10-16T14:32:51.213997Z"
    }
   }
  },
  {
   "cell_type": "markdown",
   "source": [
    "### Output .csv file"
   ],
   "metadata": {
    "collapsed": false
   }
  },
  {
   "cell_type": "code",
   "execution_count": 67,
   "outputs": [],
   "source": [
    "# Write the results to a CSV file\n",
    "result_df.to_csv('output.csv', index=False)"
   ],
   "metadata": {
    "collapsed": false,
    "ExecuteTime": {
     "start_time": "2023-10-16T14:13:59.824595Z"
    }
   }
  }
 ],
 "metadata": {
  "kernelspec": {
   "display_name": "Python 3",
   "language": "python",
   "name": "python3"
  },
  "language_info": {
   "codemirror_mode": {
    "name": "ipython",
    "version": 3
   },
   "file_extension": ".py",
   "mimetype": "text/x-python",
   "name": "python",
   "nbconvert_exporter": "python",
   "pygments_lexer": "ipython3",
   "version": "3.10.11"
  }
 },
 "nbformat": 4,
 "nbformat_minor": 4
}
