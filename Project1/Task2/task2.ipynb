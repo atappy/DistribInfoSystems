{
 "cells": [
  {
   "cell_type": "markdown",
   "metadata": {},
   "source": [
    "\n"
   ]
  },
  {
   "cell_type": "markdown",
   "metadata": {},
   "source": [
    "Import tools"
   ]
  },
  {
   "cell_type": "code",
   "execution_count": 70,
   "metadata": {},
   "outputs": [
    {
     "name": "stderr",
     "output_type": "stream",
     "text": [
      "[nltk_data] Downloading package stopwords to /home/atappy/nltk_data...\n",
      "[nltk_data]   Package stopwords is already up-to-date!\n"
     ]
    }
   ],
   "source": [
    "import pandas as pd\n",
    "from nltk.stem import PorterStemmer, WordNetLemmatizer\n",
    "import nltk\n",
    "from sklearn.feature_extraction.text import CountVectorizer, TfidfVectorizer\n",
    "from sklearn.metrics.pairwise import linear_kernel\n",
    "import string\n",
    "from nltk.corpus import stopwords\n",
    "import math\n",
    "import pickle\n",
    "import os\n",
    "from operator import itemgetter\n",
    "from collections import Counter\n",
    "nltk.download('stopwords')\n",
    "stemmer = PorterStemmer()\n",
    "\n",
    "FLAG_TOKENIZE = False"
   ]
  },
  {
   "cell_type": "markdown",
   "metadata": {},
   "source": [
    "Import data"
   ]
  },
  {
   "cell_type": "code",
   "execution_count": 2,
   "metadata": {},
   "outputs": [],
   "source": [
    "# Import corpus and queries as a dataframe\n",
    "corpus = pd.read_json('Data/corpus.jsonl', lines=True)\n",
    "queries = pd.read_json('Data/queries.jsonl', lines=True)"
   ]
  },
  {
   "cell_type": "code",
   "execution_count": 50,
   "metadata": {},
   "outputs": [
    {
     "name": "stdout",
     "output_type": "stream",
     "text": [
      "             _id                                               text\n",
      "54646    7861751  The kind of down-to-the-degree control that on...\n",
      "59650      82110  When to use: These are definitely the best opt...\n",
      "82850    8304084  5. Cooking the eggs too long. Overcooked poach...\n",
      "180252   3203819  1 Broil for 1 or 2 minutes until sauce is cook...\n",
      "212412   3385968  Rather than cooking in boiling water, boiled e...\n",
      "...          ...                                                ...\n",
      "1471081  3538161  Fruit cooked sous vide can be enhanced by the ...\n",
      "1471083  3538162  For the best quality sous vide cooking bag, we...\n",
      "1471084  3538163  Sous-Vide Glazed Carrots Â». I'm the first to ...\n",
      "1471090  3538167  How to sous vide watermelon. How to cook fruit...\n",
      "1471190  2588143  Here are five ways to sous vide food in a cool...\n",
      "\n",
      "[192 rows x 2 columns]\n",
      "502964    what types of food can you cook sous vide\n",
      "Name: text, dtype: object\n"
     ]
    }
   ],
   "source": [
    "test_corpus_id = [1396701, 1396704, 1396705, 1396707, 1396708, 1453630, 1605506, \n",
    "                  1652605, 1772930, 1772932, 1815965, 1907207, 1972028, 2025485, \n",
    "                  2077310, 210379, 210384, 2210591, 2210592, 2210593, 2210595, \n",
    "                  2210597, 2232789, 2393704, 2401465, 252142, 2588143, 2627023, \n",
    "                  275724, 275726, 275728, 275732, 2872589, 2923493, 2923494, 2923496, \n",
    "                  2923497, 2923498, 2923501, 2969050, 3143377, 3203819, 3305804, 3357360, \n",
    "                  3385968, 3385971, 3450898, 3485337, 3523599, 3523602, 3538160, 3538161, \n",
    "                  3538162, 3538163, 3538164, 3538165, 3538166, 3538167, 3538168, 3545107, \n",
    "                  3573471, 3573474, 3573477, 3573478, 3573479, 3918680, 3930148, 4044822, \n",
    "                  4245927, 4257001, 4272446, 4279298, 4279299, 4289598, 4378740, 4393631, \n",
    "                  4549698, 4566815, 4566816, 4566818, 4566819, 4566822, 4566823, 4656722, \n",
    "                  4691129, 4801563, 4834224, 4834226, 4889894, 4910037, 4927817, 4998398, \n",
    "                  5007631, 5063813, 5117497, 5359304, 5379124, 5568031, 5652031, 5702414, \n",
    "                  5774013, 5774014, 5866302, 5931262, 5931263, 5931264, 5931265, 5931266, \n",
    "                  5931267, 5931268, 5931269, 5931270, 5931271, 6142152, 6181638, 6226401, \n",
    "                  6260059, 6263225, 6351110, 6462880, 6521993, 6761344, 6761347, 6923052, \n",
    "                  6923054, 6923055, 6923056, 6944106, 7082922, 7176430, 7313730, 7313733, \n",
    "                  7327683, 7565849, 7643828, 7709320, 7742098, 7816726, 7832420, 7837084, \n",
    "                  7837086, 7861747, 7861748, 7861749, 7861750, 7861751, 7861753, 7861755, \n",
    "                  7861756, 7885529, 8002846, 8002850, 8002851, 8002852, 8002853, 8002854, \n",
    "                  8002855, 8029524, 8029527, 8029530, 8029531, 8029533, 8103063, 8103065, \n",
    "                  8103066, 8103067, 8103068, 8178996, 8178997, 8178998, 8179000, 8179001, \n",
    "                  8179003, 82105, 82106, 82107, 82108, 82109, 82110, 82111, 82113, 82114, \n",
    "                  8304084, 8402970, 8402971, 8402972, 8420020, 8455300, 8455301, 850454, 94879, 98515]\n",
    "\n",
    "test_corpus_ranks = [0, 0, 1, 0, 2, 0, 3, 0, 0, 0, 2, 1, 2, 0, 0, 2, 3, 0, 0, 0, 0, 0, 0, 0, 0, 0, 3, 0, 2, 2, 3, 2, 0, 3, 2, 2, 2, 3, 2, 0, 0, 0, 0, 1, 3, 2, 0, 1, 0, 0, 3, 2, 0, 2, 0, 0, 0, 2, 3, 0, 0, 0, 0, 3, 0, 0, 0, 3, 0, 0, 0, 3, 0, 0, 0, 0, 0, 0, 0, 3, 0, 1, 0, 3, 0, 0, 0, 2, 0, 1, 0, 3, 0, 0, 3, 0, 0, 0, 0, 0, 2, 2, 0, 3, 2, 2, 2, 2, 2, 2, 3, 2, 2, 1, 2, 1, 0, 0, 0, 0, 2, 0, 2, 2, 0, 0, 0, 0, 0, 0, 3, 3, 0, 0, 0, 1, 0, 2, 2, 0, 0, 2, 2, 2, 3, 1, 2, 3, 2, 2, 2, 2, 2, 0, 3, 2, 2, 1, 2, 3, 1, 2, 0, 2, 2, 2, 0, 0, 0, 0, 0, 0, 0, 0, 3, 3, 3, 0, 3, 0, 3, 0, 0, 0, 2, 3, 0, 1, 0, 0, 0, 0]\n",
    "\n",
    "test_corpus_text = corpus[corpus['_id'].isin(test_corpus_id)]\n",
    "print(test_corpus_text)\n",
    "\n",
    "test_query_id = 915593\n",
    "\n",
    "test_query_text = queries[queries['_id']==test_query_id]\n",
    "print(test_query_text['text'])"
   ]
  },
  {
   "cell_type": "code",
   "execution_count": 74,
   "metadata": {},
   "outputs": [
    {
     "name": "stdout",
     "output_type": "stream",
     "text": [
      "['type', 'food', 'cook', 'sou', 'vide']\n"
     ]
    },
    {
     "name": "stderr",
     "output_type": "stream",
     "text": [
      "[nltk_data] Downloading package punkt to /home/atappy/nltk_data...\n",
      "[nltk_data]   Package punkt is already up-to-date!\n",
      "[nltk_data] Downloading package stopwords to /home/atappy/nltk_data...\n",
      "[nltk_data]   Package stopwords is already up-to-date!\n"
     ]
    }
   ],
   "source": [
    "from rank_bm25 import BM25Okapi\n",
    "import nltk\n",
    "nltk.download('punkt')  # Download the Punkt tokenizer data if you haven't already\n",
    "\n",
    "from nltk.tokenize import word_tokenize\n",
    "import nltk\n",
    "from nltk.corpus import stopwords\n",
    "\n",
    "nltk.download('stopwords')  # Download the stopwords list if you haven't already\n",
    "\n",
    "stop_words = set(stopwords.words('english'))\n",
    "\n",
    "test_documents = [word_tokenize(document) for document in test_corpus_text['text']]\n",
    "test_documents = [list(filter(lambda x: x.lower() not in stop_words and len(x) > 1, doc)) for doc in test_documents]\n",
    "test_documents = list(map(lambda x : list(map(lambda y : stemmer.stem(y.lower()), x)), test_documents))\n",
    "bm25 = BM25Okapi(test_documents)\n",
    "query = [word_tokenize(document) for document in test_query_text['text']]\n",
    "query = [list(filter(lambda x: x.lower() not in stop_words and len(x) > 1, doc)) for doc in query]\n",
    "query = list(map(lambda x : list(map(lambda y : stemmer.stem(y.lower()), x)), query))[0]\n",
    "scores = bm25.get_scores(query)\n",
    "print(query)"
   ]
  },
  {
   "cell_type": "code",
   "execution_count": 75,
   "metadata": {},
   "outputs": [
    {
     "name": "stdout",
     "output_type": "stream",
     "text": [
      "[(8179003, 2), (8178998, 3), (3538160, 0), (6923052, 0), (3538162, 0), (3538164, 1), (4566819, 1), (82107, 0), (82111, 2), (4566816, 2), (3523599, 2), (4566823, 0), (82113, 2), (1772930, 3), (1396701, 2), (82105, 2), (7837086, 0), (3538166, 0), (8402970, 0), (2210591, 0), (4566815, 3), (3523602, 2), (2210595, 3), (3357360, 0), (3538167, 0), (82109, 0), (8178996, 2), (2210597, 0), (8455301, 0), (8002852, 0), (3143377, 2), (2923497, 3), (8002855, 1), (82114, 0), (1396707, 2), (8103065, 2), (4834226, 2), (8103067, 3), (8103068, 2), (275732, 0), (7861756, 0), (3485337, 3), (5931266, 2), (3538165, 3), (5774013, 0), (5931265, 2), (7837084, 0), (8029533, 0), (1396704, 3), (7885529, 2), (4910037, 0), (82106, 0), (3385971, 2), (7816726, 2), (5931264, 2), (82110, 0), (8402971, 0), (2923501, 1), (275728, 0), (2588143, 0), (7861749, 3), (8103063, 2), (5866302, 0), (6923054, 0), (5931270, 2), (5931271, 0), (5931269, 0), (4566822, 2), (82108, 1), (1396705, 1), (3538168, 0), (8179000, 2), (8402972, 0), (7313730, 3), (4566818, 2), (8029530, 0), (8179001, 0), (8029531, 2), (1972028, 0), (3573479, 0), (6181638, 2), (7861753, 0), (1907207, 0), (5931268, 2), (3385968, 2), (8029524, 1), (275726, 0), (8002846, 0), (8103066, 0), (4044822, 0), (1605506, 0), (8002854, 0), (6923056, 0), (8002853, 2), (2923496, 0), (5931263, 3), (5774014, 0), (6142152, 0), (7709320, 3), (4279298, 2), (6761347, 0), (7861755, 0), (5931262, 0), (3538161, 1), (3450898, 2), (8178997, 0), (3573471, 0), (3573474, 0), (1772932, 0), (6923055, 0), (4656722, 0), (2923494, 0), (4691129, 0), (1396708, 0), (2210592, 0), (2210593, 3), (6761344, 2), (8002850, 3), (7176430, 2), (7861748, 0), (4998398, 1), (7742098, 3), (3930148, 0), (3573478, 0), (8002851, 0), (7832420, 1), (3573477, 0), (8420020, 0), (2077310, 0), (5931267, 3), (6521993, 2), (8455300, 3), (1652605, 2), (275724, 0), (210379, 0), (4378740, 2), (5652031, 0), (8029527, 0), (7313733, 0), (4889894, 0), (7643828, 0), (4279299, 2), (6944106, 0), (3203819, 0), (2393704, 2), (98515, 3), (4927817, 0), (6263225, 0), (5117497, 0), (6260059, 3), (850454, 3), (7861751, 0), (2232789, 0), (2872589, 0), (4245927, 2), (5568031, 0), (1453630, 2), (5007631, 0), (4272446, 1), (7861750, 0), (3538163, 0), (8304084, 1), (6226401, 2), (3545107, 0), (3918680, 2), (5359304, 3), (5702414, 0), (7861747, 3), (2627023, 3), (6462880, 0), (6351110, 0), (5063813, 3), (7082922, 0), (1815965, 2), (4289598, 2), (2923498, 0), (4549698, 0), (2923493, 0), (3305804, 3), (4257001, 0), (4393631, 2), (5379124, 3), (2401465, 2), (210384, 2), (4834224, 0), (4801563, 3), (2969050, 2), (7327683, 1), (252142, 0), (2025485, 0), (7565849, 3), (94879, 3)]\n"
     ]
    }
   ],
   "source": [
    "sorted_corpus_ids = sorted(enumerate(scores), key=lambda x: x[1], reverse=True)\n",
    "sorted_corpus_ids = [(test_corpus_text.iloc[x[0]]['_id'], test_corpus_ranks[x[0]]) for x in sorted_corpus_ids]\n",
    "print(sorted_corpus_ids)"
   ]
  },
  {
   "cell_type": "code",
   "execution_count": null,
   "metadata": {},
   "outputs": [],
   "source": []
  }
 ],
 "metadata": {
  "kernelspec": {
   "display_name": "Python 3 (ipykernel)",
   "language": "python",
   "name": "python3"
  },
  "language_info": {
   "codemirror_mode": {
    "name": "ipython",
    "version": 3
   },
   "file_extension": ".py",
   "mimetype": "text/x-python",
   "name": "python",
   "nbconvert_exporter": "python",
   "pygments_lexer": "ipython3",
   "version": "3.11.5"
  }
 },
 "nbformat": 4,
 "nbformat_minor": 4
}
