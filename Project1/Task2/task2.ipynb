{
 "cells": [
  {
   "cell_type": "markdown",
   "metadata": {},
   "source": [
    "\n"
   ]
  },
  {
   "cell_type": "markdown",
   "metadata": {},
   "source": [
    "Import tools"
   ]
  },
  {
   "cell_type": "code",
   "execution_count": 2,
   "metadata": {},
   "outputs": [
    {
     "name": "stderr",
     "output_type": "stream",
     "text": [
      "[nltk_data] Downloading package stopwords to\n",
      "[nltk_data]     C:\\Users\\Antoine\\AppData\\Roaming\\nltk_data...\n",
      "[nltk_data]   Package stopwords is already up-to-date!\n"
     ]
    }
   ],
   "source": [
    "import pandas as pd\n",
    "from nltk.stem import PorterStemmer, WordNetLemmatizer\n",
    "import nltk\n",
    "from sklearn.feature_extraction.text import CountVectorizer, TfidfVectorizer\n",
    "from sklearn.metrics.pairwise import linear_kernel\n",
    "import string\n",
    "from nltk.corpus import stopwords\n",
    "import math\n",
    "import pickle\n",
    "import os\n",
    "from operator import itemgetter\n",
    "from collections import Counter\n",
    "nltk.download('stopwords')\n",
    "stemmer = PorterStemmer()\n",
    "\n",
    "FLAG_TOKENIZE = False"
   ]
  },
  {
   "cell_type": "markdown",
   "metadata": {},
   "source": [
    "Import data"
   ]
  },
  {
   "cell_type": "code",
   "execution_count": 3,
   "metadata": {},
   "outputs": [],
   "source": [
    "# Import corpus and queries as a dataframe\n",
    "corpus = pd.read_json('Data/corpus.jsonl', lines=True)\n",
    "queries = pd.read_json('Data/queries.jsonl', lines=True)"
   ]
  },
  {
   "cell_type": "code",
   "execution_count": 30,
   "metadata": {},
   "outputs": [
    {
     "name": "stdout",
     "output_type": "stream",
     "text": [
      "             _id                                               text\n",
      "54646    7861751  The kind of down-to-the-degree control that on...\n",
      "59650      82110  When to use: These are definitely the best opt...\n",
      "82850    8304084  5. Cooking the eggs too long. Overcooked poach...\n",
      "180252   3203819  1 Broil for 1 or 2 minutes until sauce is cook...\n",
      "212412   3385968  Rather than cooking in boiling water, boiled e...\n",
      "...          ...                                                ...\n",
      "1471081  3538161  Fruit cooked sous vide can be enhanced by the ...\n",
      "1471083  3538162  For the best quality sous vide cooking bag, we...\n",
      "1471084  3538163  Sous-Vide Glazed Carrots Â». I'm the first to ...\n",
      "1471090  3538167  How to sous vide watermelon. How to cook fruit...\n",
      "1471190  2588143  Here are five ways to sous vide food in a cool...\n",
      "\n",
      "[192 rows x 2 columns]\n",
      "502964    what types of food can you cook sous vide\n",
      "Name: text, dtype: object\n"
     ]
    }
   ],
   "source": [
    "test_corpus_id = [1396701, 1396704, 1396705, 1396707, 1396708, 1453630, 1605506, \n",
    "                  1652605, 1772930, 1772932, 1815965, 1907207, 1972028, 2025485, \n",
    "                  2077310, 210379, 210384, 2210591, 2210592, 2210593, 2210595, \n",
    "                  2210597, 2232789, 2393704, 2401465, 252142, 2588143, 2627023, \n",
    "                  275724, 275726, 275728, 275732, 2872589, 2923493, 2923494, 2923496, \n",
    "                  2923497, 2923498, 2923501, 2969050, 3143377, 3203819, 3305804, 3357360, \n",
    "                  3385968, 3385971, 3450898, 3485337, 3523599, 3523602, 3538160, 3538161, \n",
    "                  3538162, 3538163, 3538164, 3538165, 3538166, 3538167, 3538168, 3545107, \n",
    "                  3573471, 3573474, 3573477, 3573478, 3573479, 3918680, 3930148, 4044822, \n",
    "                  4245927, 4257001, 4272446, 4279298, 4279299, 4289598, 4378740, 4393631, \n",
    "                  4549698, 4566815, 4566816, 4566818, 4566819, 4566822, 4566823, 4656722, \n",
    "                  4691129, 4801563, 4834224, 4834226, 4889894, 4910037, 4927817, 4998398, \n",
    "                  5007631, 5063813, 5117497, 5359304, 5379124, 5568031, 5652031, 5702414, \n",
    "                  5774013, 5774014, 5866302, 5931262, 5931263, 5931264, 5931265, 5931266, \n",
    "                  5931267, 5931268, 5931269, 5931270, 5931271, 6142152, 6181638, 6226401, \n",
    "                  6260059, 6263225, 6351110, 6462880, 6521993, 6761344, 6761347, 6923052, \n",
    "                  6923054, 6923055, 6923056, 6944106, 7082922, 7176430, 7313730, 7313733, \n",
    "                  7327683, 7565849, 7643828, 7709320, 7742098, 7816726, 7832420, 7837084, \n",
    "                  7837086, 7861747, 7861748, 7861749, 7861750, 7861751, 7861753, 7861755, \n",
    "                  7861756, 7885529, 8002846, 8002850, 8002851, 8002852, 8002853, 8002854, \n",
    "                  8002855, 8029524, 8029527, 8029530, 8029531, 8029533, 8103063, 8103065, \n",
    "                  8103066, 8103067, 8103068, 8178996, 8178997, 8178998, 8179000, 8179001, \n",
    "                  8179003, 82105, 82106, 82107, 82108, 82109, 82110, 82111, 82113, 82114, \n",
    "                  8304084, 8402970, 8402971, 8402972, 8420020, 8455300, 8455301, 850454, 94879, 98515]\n",
    "\n",
    "test_corpus_ranks = [0, 0, 1, 0, 2, 0, 3, 0, 0, 0, 2, 1, 2, 0, 0, 2, 3, 0, 0, 0, 0, 0, 0, 0, 0, 0, 3, 0, 2, 2, 3, 2, 0, 3, 2, 2, 2, 3, 2, 0, 0, 0, 0, 1, 3, 2, 0, 1, 0, 0, 3, 2, 0, 2, 0, 0, 0, 2, 3, 0, 0, 0, 0, 3, 0, 0, 0, 3, 0, 0, 0, 3, 0, 0, 0, 0, 0, 0, 0, 3, 0, 1, 0, 3, 0, 0, 0, 2, 0, 1, 0, 3, 0, 0, 3, 0, 0, 0, 0, 0, 2, 2, 0, 3, 2, 2, 2, 2, 2, 2, 3, 2, 2, 1, 2, 1, 0, 0, 0, 0, 2, 0, 2, 2, 0, 0, 0, 0, 0, 0, 3, 3, 0, 0, 0, 1, 0, 2, 2, 0, 0, 2, 2, 2, 3, 1, 2, 3, 2, 2, 2, 2, 2, 0, 3, 2, 2, 1, 2, 3, 1, 2, 0, 2, 2, 2, 0, 0, 0, 0, 0, 0, 0, 0, 3, 3, 3, 0, 3, 0, 3, 0, 0, 0, 2, 3, 0, 1, 0, 0, 0, 0]\n",
    "\n",
    "\n",
    "test_corpus_text = corpus[corpus['_id'].isin(test_corpus_id)]\n",
    "print(test_corpus_text)\n",
    "\n",
    "test_query_id = 915593\n",
    "\n",
    "test_query_text = queries[queries['_id']==test_query_id]\n",
    "print(test_query_text['text'])"
   ]
  },
  {
   "cell_type": "code",
   "execution_count": 33,
   "metadata": {},
   "outputs": [
    {
     "name": "stdout",
     "output_type": "stream",
     "text": [
      "[0.         2.36284658 0.66191529 0.89995212 2.65190077 2.36284658\n",
      " 0.70640169 0.         4.47240203 3.16240587 4.56612319 5.61934601\n",
      " 0.         0.         2.02858425 3.15440012 1.62498554 0.\n",
      " 4.90608948 2.39548472 4.58959425 4.42700777 3.33646275 1.81792823\n",
      " 1.52559084 0.         2.82467639 2.65190077 3.27348414 1.47023085\n",
      " 0.         2.69308239 3.47967096 3.16512156 3.54015448 3.5408289\n",
      " 3.27348414 2.49904301 3.90289929 3.79931611 3.24287809 0.\n",
      " 0.         2.57320381 2.42903715 2.44332625 3.43560934 4.25450316\n",
      " 2.27005888 3.75173115 0.         2.42903715 3.50504685 0.\n",
      " 3.30467342 3.30467342 1.54928188 0.         5.09713047 3.27348414\n",
      " 3.59282141 0.         0.         0.         1.3973814  3.21283905\n",
      " 4.56612319 0.49394058 0.54518175 3.16512156 0.81609947 2.33108586\n",
      " 2.18428327 3.07887289 0.         2.42903715 0.         3.10577105\n",
      " 3.31043245 3.51989878 0.6148144  2.84401789 3.40347606 2.73556321\n",
      " 2.61195965 2.7794057  1.32377269 3.41538993 2.4457388  3.30467342\n",
      " 0.74654085 3.57734907 5.26315556 2.84619856 3.12140154 0.\n",
      " 5.67061397 4.32044513 3.27348414 2.46354285 3.30467342 4.14845303\n",
      " 2.53558126 3.82475872 3.30467342 0.         3.33646275 3.12597069\n",
      " 1.66660003 0.7360844  4.68043307 5.07004029 4.45866443 5.07121915\n",
      " 2.91574267 1.00143324 0.         2.36284658 2.62848923 4.30610666\n",
      " 0.65709467 0.75729866 0.         2.42903715 2.03081221 4.43817604\n",
      " 4.56612319 3.96601794 5.1029399  1.30592406 1.28905062 5.13825621\n",
      " 0.74654085 4.69717399 4.10495401 2.57320381 5.22683221 4.76625101\n",
      " 5.92181893 4.56250296 0.         2.57320381 4.81914409 4.87326386\n",
      " 0.         0.70640169 3.12597069 0.52346033 1.03372228 0.80361998\n",
      " 1.67726968 0.64565107 3.71627301 3.33646275 2.73759606 3.82641856\n",
      " 0.         0.         4.95143353 3.1833514  2.87144623 4.11662133\n",
      " 2.89143579 2.33108586 3.7884436  2.71065812 2.65190077 3.16512156\n",
      " 0.         0.         0.         0.         1.54928188 3.82475872\n",
      " 0.         0.         0.         1.18973744 0.5082722  0.96997165\n",
      " 3.12701729 0.82142554 2.41288723 0.74654085 4.43817604 0.81609947\n",
      " 2.84401789 2.30016766 5.06112759 0.54518175 4.92756141 4.37851933]\n",
      "['types', 'food', 'cook', 'sous', 'vide']\n"
     ]
    },
    {
     "name": "stderr",
     "output_type": "stream",
     "text": [
      "[nltk_data] Downloading package punkt to\n",
      "[nltk_data]     C:\\Users\\Antoine\\AppData\\Roaming\\nltk_data...\n",
      "[nltk_data]   Package punkt is already up-to-date!\n",
      "[nltk_data] Downloading package wordnet to\n",
      "[nltk_data]     C:\\Users\\Antoine\\AppData\\Roaming\\nltk_data...\n",
      "[nltk_data]   Package wordnet is already up-to-date!\n",
      "[nltk_data] Downloading package stopwords to\n",
      "[nltk_data]     C:\\Users\\Antoine\\AppData\\Roaming\\nltk_data...\n",
      "[nltk_data]   Package stopwords is already up-to-date!\n"
     ]
    }
   ],
   "source": [
    "from rank_bm25 import BM25Okapi\n",
    "import nltk\n",
    "nltk.download('punkt')  # Download the Punkt tokenizer data if you haven't already\n",
    "nltk.download('wordnet')\n",
    "\n",
    "\n",
    "from nltk.stem import WordNetLemmatizer\n",
    " \n",
    "lemmatizer = WordNetLemmatizer()\n",
    "\n",
    "from nltk.tokenize import word_tokenize\n",
    "import nltk\n",
    "from nltk.corpus import stopwords\n",
    "nltk.download('stopwords')  # Download the stopwords list if you haven't already\n",
    "\n",
    "stop_words = set(stopwords.words('english'))\n",
    "\n",
    "test_documents = [word_tokenize(document) for document in test_corpus_text['text']]\n",
    "test_documents = [list(filter(lambda x: x.lower() not in stop_words and re.match(\"[⁰-9a-zA-Z]\", x), doc)) for doc in test_documents]\n",
    "test_documents = list(map(lambda x : list(map(lambda y : lemmatizer.lemmatize(y.lower()), x)), test_documents))\n",
    "bm25 = BM25Okapi(test_documents)\n",
    "query = [word_tokenize(document) for document in test_query_text['text']]\n",
    "query = [list(filter(lambda x: x.lower() not in stop_words and len(x) > 1, doc)) for doc in query]\n",
    "query = list(map(lambda x : list(map(lambda y : lemmatizer.lemmatize(y.lower()), x)), query))[0]\n",
    "scores = bm25.get_scores(query)\n",
    "print(scores)\n",
    "print(query)"
   ]
  },
  {
   "cell_type": "code",
   "execution_count": 34,
   "metadata": {},
   "outputs": [
    {
     "name": "stdout",
     "output_type": "stream",
     "text": [
      "[(7832420, 2), (5379124, 0), (1907207, 1), (5007631, 0), (7742098, 0), (7313733, 3), (7082922, 0), (3538168, 3), (6142152, 1), (5931270, 2), (8455301, 0), (8029527, 2), (94879, 0), (2210592, 0), (7861749, 2), (7861748, 2), (7816726, 2), (7565849, 0), (5931269, 3), (2210595, 0), (1815965, 2), (3930148, 0), (6923056, 0), (7837084, 0), (1772930, 0), (5931271, 2), (6923055, 0), (8402971, 2), (2210597, 0), (98515, 0), (5568031, 0), (6462880, 0), (3485337, 1), (5774014, 2), (8029533, 2), (7643828, 0), (6944106, 0), (2923501, 2), (8002854, 2), (5931262, 3), (82105, 0), (2969050, 0), (8103066, 2), (3523602, 0), (8002851, 2), (3573471, 0), (4998398, 3), (2923496, 2), (2923494, 2), (4566818, 3), (3538162, 0), (2872589, 0), (3450898, 0), (4834226, 2), (4566823, 0), (2232789, 0), (5931265, 2), (8002852, 0), (4566816, 0), (3538164, 0), (3538165, 0), (4910037, 1), (5774013, 2), (5931263, 2), (275724, 2), (2923497, 2), (3545107, 0), (5652031, 0), (3143377, 0), (3918680, 0), (8029530, 3), (2923493, 3), (4257001, 0), (8178996, 0), (1772932, 0), (210379, 2), (82113, 3), (5931266, 2), (7861753, 2), (5117497, 3), (4566815, 0), (4289598, 0), (6181638, 2), (8103063, 0), (8029531, 1), (5063813, 0), (4566822, 1), (8420020, 0), (2588143, 3), (4801563, 0), (8002853, 3), (4656722, 3), (8103067, 2), (275732, 2), (1396708, 2), (2627023, 0), (8103068, 0), (6351110, 0), (4691129, 0), (3357360, 1), (7709320, 1), (7861747, 2), (5866302, 0), (2923498, 3), (5702414, 0), (4889894, 0), (3385971, 2), (3385968, 3), (3538161, 2), (4393631, 0), (6923052, 2), (8304084, 0), (2210593, 0), (1396704, 0), (1453630, 0), (6263225, 0), (4279298, 3), (8103065, 2), (8455300, 1), (3523599, 0), (4279299, 0), (6923054, 0), (2077310, 0), (2393704, 0), (8002846, 2), (5931267, 2), (210384, 3), (3538166, 0), (8179003, 0), (2401465, 0), (275726, 2), (3573479, 0), (4834224, 0), (7176430, 0), (7313730, 3), (82109, 0), (7861756, 2), (6226401, 1), (82111, 0), (1396707, 0), (82114, 0), (4272446, 0), (8402972, 3), (7885529, 2), (6761344, 0), (4927817, 0), (7327683, 0), (8402970, 0), (5931268, 2), (1605506, 3), (7861751, 1), (1396705, 1), (6521993, 2), (8002850, 2), (4566819, 0), (4245927, 0), (850454, 0), (7861755, 3), (82110, 3), (4044822, 3), (1396701, 0), (1652605, 0), (1972028, 2), (2025485, 0), (2210591, 0), (252142, 0), (275728, 3), (3203819, 0), (3305804, 0), (3538160, 3), (3538163, 2), (3538167, 2), (3573474, 0), (3573477, 0), (3573478, 3), (4378740, 0), (4549698, 0), (5359304, 0), (5931264, 2), (6260059, 0), (6761347, 2), (7837086, 0), (7861750, 3), (8002855, 2), (8029524, 1), (8178997, 0), (8178998, 0), (8179000, 0), (8179001, 0), (82106, 3), (82107, 3), (82108, 3)]\n"
     ]
    }
   ],
   "source": [
    "sorted_corpus_ids = sorted(enumerate(scores), key=lambda x: x[1], reverse=True)\n",
    "sorted_corpus_ids = [(test_corpus_id[x[0]], test_corpus_ranks[x[0]]) for x in sorted_corpus_ids]\n",
    "print(sorted_corpus_ids)"
   ]
  },
  {
   "cell_type": "code",
   "execution_count": null,
   "metadata": {},
   "outputs": [],
   "source": []
  }
 ],
 "metadata": {
  "kernelspec": {
   "display_name": "Python 3",
   "language": "python",
   "name": "python3"
  },
  "language_info": {
   "codemirror_mode": {
    "name": "ipython",
    "version": 3
   },
   "file_extension": ".py",
   "mimetype": "text/x-python",
   "name": "python",
   "nbconvert_exporter": "python",
   "pygments_lexer": "ipython3",
   "version": "3.10.11"
  }
 },
 "nbformat": 4,
 "nbformat_minor": 4
}
