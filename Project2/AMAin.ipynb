{
 "cells": [
  {
   "cell_type": "code",
   "execution_count": 1,
   "id": "13019f85-9ae3-4569-b834-a8c9c9b268be",
   "metadata": {
    "tags": []
   },
   "outputs": [],
   "source": [
    "import pandas as pd"
   ]
  },
  {
   "cell_type": "code",
   "execution_count": 2,
   "id": "becb8dde-6ba7-4894-b3f4-57aceee42da7",
   "metadata": {
    "tags": []
   },
   "outputs": [],
   "source": [
    "ratings = pd.read_table(\"train_ratings.csv\", sep=\",\")\n",
    "test = pd.read_table(\"test_set_no_ratings.csv\", sep=\",\")\n",
    "movies = pd.read_table(\"movies.csv\", sep=\",\").set_index(\"movieId\")"
   ]
  },
  {
   "cell_type": "markdown",
   "id": "5477ce9e-bc77-427c-bae7-b2072cff2f75",
   "metadata": {
    "tags": []
   },
   "source": [
    "#### Test if there are multiple ratings for a pair (user, movie) in ratings"
   ]
  },
  {
   "cell_type": "code",
   "execution_count": 3,
   "id": "5ddbeb43-4d83-4fbc-b4f3-371f95954dae",
   "metadata": {
    "tags": []
   },
   "outputs": [
    {
     "data": {
      "text/plain": [
       "rating       True\n",
       "timestamp    True\n",
       "dtype: bool"
      ]
     },
     "execution_count": 3,
     "metadata": {},
     "output_type": "execute_result"
    }
   ],
   "source": [
    "number_of_ratings = ratings.groupby([\"userId\", \"movieId\"]).count()\n",
    "(number_of_ratings == 1).all()"
   ]
  },
  {
   "cell_type": "markdown",
   "id": "5698e11c-1671-478e-88a0-bfa2f5b61c16",
   "metadata": {},
   "source": [
    "No duplicates !"
   ]
  },
  {
   "cell_type": "markdown",
   "id": "1292799e-1f70-4a89-aeca-96f9c84df99e",
   "metadata": {
    "tags": []
   },
   "source": [
    "#### Test if there are users (in test) without movie ratings"
   ]
  },
  {
   "cell_type": "code",
   "execution_count": 4,
   "id": "da87ec83-1254-4ff7-bd2f-e58d66d9734a",
   "metadata": {
    "tags": []
   },
   "outputs": [
    {
     "data": {
      "text/plain": [
       "True"
      ]
     },
     "execution_count": 4,
     "metadata": {},
     "output_type": "execute_result"
    }
   ],
   "source": [
    "test.userId.isin(ratings.userId).all()"
   ]
  },
  {
   "cell_type": "markdown",
   "id": "858c229a-dc0f-4867-9afc-18384a67471a",
   "metadata": {},
   "source": [
    "No users without movie ratings !!"
   ]
  },
  {
   "cell_type": "markdown",
   "id": "7b910b1e-c1b7-4fa4-8053-87e86945be86",
   "metadata": {},
   "source": [
    "#### Define function that retrives rated movies by userId"
   ]
  },
  {
   "cell_type": "code",
   "execution_count": 5,
   "id": "e91fc2c6-b9d8-4e5b-a13a-f84b89150dcb",
   "metadata": {
    "tags": []
   },
   "outputs": [
    {
     "data": {
      "text/html": [
       "<div>\n",
       "<style scoped>\n",
       "    .dataframe tbody tr th:only-of-type {\n",
       "        vertical-align: middle;\n",
       "    }\n",
       "\n",
       "    .dataframe tbody tr th {\n",
       "        vertical-align: top;\n",
       "    }\n",
       "\n",
       "    .dataframe thead th {\n",
       "        text-align: right;\n",
       "    }\n",
       "</style>\n",
       "<table border=\"1\" class=\"dataframe\">\n",
       "  <thead>\n",
       "    <tr style=\"text-align: right;\">\n",
       "      <th></th>\n",
       "      <th>userId</th>\n",
       "      <th>movieId</th>\n",
       "      <th>rating</th>\n",
       "      <th>timestamp</th>\n",
       "    </tr>\n",
       "  </thead>\n",
       "  <tbody>\n",
       "    <tr>\n",
       "      <th>0</th>\n",
       "      <td>509</td>\n",
       "      <td>7347</td>\n",
       "      <td>3.0</td>\n",
       "      <td>1435994597</td>\n",
       "    </tr>\n",
       "    <tr>\n",
       "      <th>1</th>\n",
       "      <td>326</td>\n",
       "      <td>71462</td>\n",
       "      <td>4.0</td>\n",
       "      <td>1322252335</td>\n",
       "    </tr>\n",
       "    <tr>\n",
       "      <th>2</th>\n",
       "      <td>57</td>\n",
       "      <td>2115</td>\n",
       "      <td>3.0</td>\n",
       "      <td>965798155</td>\n",
       "    </tr>\n",
       "    <tr>\n",
       "      <th>3</th>\n",
       "      <td>610</td>\n",
       "      <td>1127</td>\n",
       "      <td>4.0</td>\n",
       "      <td>1479544102</td>\n",
       "    </tr>\n",
       "    <tr>\n",
       "      <th>4</th>\n",
       "      <td>462</td>\n",
       "      <td>2409</td>\n",
       "      <td>2.0</td>\n",
       "      <td>1174438249</td>\n",
       "    </tr>\n",
       "    <tr>\n",
       "      <th>...</th>\n",
       "      <td>...</td>\n",
       "      <td>...</td>\n",
       "      <td>...</td>\n",
       "      <td>...</td>\n",
       "    </tr>\n",
       "    <tr>\n",
       "      <th>80663</th>\n",
       "      <td>42</td>\n",
       "      <td>4005</td>\n",
       "      <td>4.0</td>\n",
       "      <td>996259059</td>\n",
       "    </tr>\n",
       "    <tr>\n",
       "      <th>80664</th>\n",
       "      <td>364</td>\n",
       "      <td>141</td>\n",
       "      <td>4.0</td>\n",
       "      <td>869443367</td>\n",
       "    </tr>\n",
       "    <tr>\n",
       "      <th>80665</th>\n",
       "      <td>480</td>\n",
       "      <td>6867</td>\n",
       "      <td>4.0</td>\n",
       "      <td>1179163171</td>\n",
       "    </tr>\n",
       "    <tr>\n",
       "      <th>80666</th>\n",
       "      <td>6</td>\n",
       "      <td>981</td>\n",
       "      <td>3.0</td>\n",
       "      <td>845556567</td>\n",
       "    </tr>\n",
       "    <tr>\n",
       "      <th>80667</th>\n",
       "      <td>103</td>\n",
       "      <td>6711</td>\n",
       "      <td>5.0</td>\n",
       "      <td>1431957425</td>\n",
       "    </tr>\n",
       "  </tbody>\n",
       "</table>\n",
       "<p>80668 rows × 4 columns</p>\n",
       "</div>"
      ],
      "text/plain": [
       "       userId  movieId  rating   timestamp\n",
       "0         509     7347     3.0  1435994597\n",
       "1         326    71462     4.0  1322252335\n",
       "2          57     2115     3.0   965798155\n",
       "3         610     1127     4.0  1479544102\n",
       "4         462     2409     2.0  1174438249\n",
       "...       ...      ...     ...         ...\n",
       "80663      42     4005     4.0   996259059\n",
       "80664     364      141     4.0   869443367\n",
       "80665     480     6867     4.0  1179163171\n",
       "80666       6      981     3.0   845556567\n",
       "80667     103     6711     5.0  1431957425\n",
       "\n",
       "[80668 rows x 4 columns]"
      ]
     },
     "execution_count": 5,
     "metadata": {},
     "output_type": "execute_result"
    }
   ],
   "source": [
    "ratings"
   ]
  },
  {
   "cell_type": "code",
   "execution_count": 6,
   "id": "6f3c6212-3d28-4a56-b362-b47ad249efa9",
   "metadata": {
    "tags": []
   },
   "outputs": [],
   "source": [
    "def find_rated_movies_by_user(user_id, ratings):\n",
    "    rated_movies_by_user = ratings[ratings.userId == user_id]\n",
    "    return rated_movies_by_user"
   ]
  },
  {
   "cell_type": "code",
   "execution_count": 7,
   "id": "310162a5-0e06-4981-9d3d-8256a32468a1",
   "metadata": {
    "tags": []
   },
   "outputs": [
    {
     "data": {
      "text/html": [
       "<div>\n",
       "<style scoped>\n",
       "    .dataframe tbody tr th:only-of-type {\n",
       "        vertical-align: middle;\n",
       "    }\n",
       "\n",
       "    .dataframe tbody tr th {\n",
       "        vertical-align: top;\n",
       "    }\n",
       "\n",
       "    .dataframe thead th {\n",
       "        text-align: right;\n",
       "    }\n",
       "</style>\n",
       "<table border=\"1\" class=\"dataframe\">\n",
       "  <thead>\n",
       "    <tr style=\"text-align: right;\">\n",
       "      <th></th>\n",
       "      <th>userId</th>\n",
       "      <th>movieId</th>\n",
       "      <th>rating</th>\n",
       "      <th>timestamp</th>\n",
       "    </tr>\n",
       "  </thead>\n",
       "  <tbody>\n",
       "    <tr>\n",
       "      <th>0</th>\n",
       "      <td>509</td>\n",
       "      <td>7347</td>\n",
       "      <td>3.0</td>\n",
       "      <td>1435994597</td>\n",
       "    </tr>\n",
       "    <tr>\n",
       "      <th>69</th>\n",
       "      <td>509</td>\n",
       "      <td>4993</td>\n",
       "      <td>5.0</td>\n",
       "      <td>1435992277</td>\n",
       "    </tr>\n",
       "    <tr>\n",
       "      <th>239</th>\n",
       "      <td>509</td>\n",
       "      <td>2028</td>\n",
       "      <td>3.5</td>\n",
       "      <td>1436393168</td>\n",
       "    </tr>\n",
       "    <tr>\n",
       "      <th>275</th>\n",
       "      <td>509</td>\n",
       "      <td>85510</td>\n",
       "      <td>3.5</td>\n",
       "      <td>1435999262</td>\n",
       "    </tr>\n",
       "    <tr>\n",
       "      <th>471</th>\n",
       "      <td>509</td>\n",
       "      <td>94780</td>\n",
       "      <td>2.5</td>\n",
       "      <td>1435999746</td>\n",
       "    </tr>\n",
       "    <tr>\n",
       "      <th>...</th>\n",
       "      <td>...</td>\n",
       "      <td>...</td>\n",
       "      <td>...</td>\n",
       "      <td>...</td>\n",
       "    </tr>\n",
       "    <tr>\n",
       "      <th>79126</th>\n",
       "      <td>509</td>\n",
       "      <td>7045</td>\n",
       "      <td>3.0</td>\n",
       "      <td>1436027388</td>\n",
       "    </tr>\n",
       "    <tr>\n",
       "      <th>79765</th>\n",
       "      <td>509</td>\n",
       "      <td>70183</td>\n",
       "      <td>3.5</td>\n",
       "      <td>1435997259</td>\n",
       "    </tr>\n",
       "    <tr>\n",
       "      <th>79853</th>\n",
       "      <td>509</td>\n",
       "      <td>45447</td>\n",
       "      <td>3.0</td>\n",
       "      <td>1435998371</td>\n",
       "    </tr>\n",
       "    <tr>\n",
       "      <th>80217</th>\n",
       "      <td>509</td>\n",
       "      <td>78105</td>\n",
       "      <td>4.0</td>\n",
       "      <td>1435996118</td>\n",
       "    </tr>\n",
       "    <tr>\n",
       "      <th>80428</th>\n",
       "      <td>509</td>\n",
       "      <td>37729</td>\n",
       "      <td>3.5</td>\n",
       "      <td>1435993861</td>\n",
       "    </tr>\n",
       "  </tbody>\n",
       "</table>\n",
       "<p>374 rows × 4 columns</p>\n",
       "</div>"
      ],
      "text/plain": [
       "       userId  movieId  rating   timestamp\n",
       "0         509     7347     3.0  1435994597\n",
       "69        509     4993     5.0  1435992277\n",
       "239       509     2028     3.5  1436393168\n",
       "275       509    85510     3.5  1435999262\n",
       "471       509    94780     2.5  1435999746\n",
       "...       ...      ...     ...         ...\n",
       "79126     509     7045     3.0  1436027388\n",
       "79765     509    70183     3.5  1435997259\n",
       "79853     509    45447     3.0  1435998371\n",
       "80217     509    78105     4.0  1435996118\n",
       "80428     509    37729     3.5  1435993861\n",
       "\n",
       "[374 rows x 4 columns]"
      ]
     },
     "execution_count": 7,
     "metadata": {},
     "output_type": "execute_result"
    }
   ],
   "source": [
    "find_rated_movies_by_user(509, ratings)"
   ]
  },
  {
   "cell_type": "code",
   "execution_count": 8,
   "id": "60404771-b93b-4ae8-83e2-294db8faf3a9",
   "metadata": {
    "tags": []
   },
   "outputs": [],
   "source": [
    "def find_genre_from_movie(movie_id, movies):\n",
    "    genres = movies.loc[movie_id][\"genres\"]\n",
    "    return genres.split(\"|\")\n"
   ]
  },
  {
   "cell_type": "code",
   "execution_count": 9,
   "id": "ee832516-3a7a-4a2e-8686-04ef25022e53",
   "metadata": {
    "tags": []
   },
   "outputs": [
    {
     "data": {
      "text/plain": [
       "['Adventure', 'Animation', 'Children', 'Comedy', 'Fantasy']"
      ]
     },
     "execution_count": 9,
     "metadata": {},
     "output_type": "execute_result"
    }
   ],
   "source": [
    "find_genre_from_movie(1,movies)"
   ]
  },
  {
   "cell_type": "markdown",
   "id": "bb2fa66e-0124-45b7-9115-c50864c90df5",
   "metadata": {},
   "source": [
    "Define similarity function (Jaccard's distance with Genres)"
   ]
  },
  {
   "cell_type": "markdown",
   "id": "220c137c-26b8-41d8-bf67-9ccf46ecf2bb",
   "metadata": {},
   "source": [
    "do we need to work with sets ? duplicates in genre ?"
   ]
  },
  {
   "cell_type": "code",
   "execution_count": 10,
   "id": "70e7f0c9-bc85-4dc0-a557-5ebfc065c906",
   "metadata": {
    "tags": []
   },
   "outputs": [],
   "source": [
    "def compute_similarity(movie_id_1, movie_id_2, movies):\n",
    "    genres_1 = set(find_genre_from_movie(movie_id_1, movies))\n",
    "    genres_2 = set(find_genre_from_movie(movie_id_2, movies))\n",
    "    \n",
    "    n_common = len(genres_1 & genres_2)\n",
    "    n_total = len(genres_1 | genres_2)\n",
    "    \n",
    "    return n_common/n_total"
   ]
  },
  {
   "cell_type": "code",
   "execution_count": null,
   "id": "f79a71db",
   "metadata": {},
   "outputs": [],
   "source": []
  },
  {
   "cell_type": "markdown",
   "id": "42e2e3fc-147c-41eb-879b-a208203b36c2",
   "metadata": {},
   "source": [
    "Define aggregate function"
   ]
  },
  {
   "cell_type": "code",
   "execution_count": 11,
   "id": "15c92ea1-3604-4ac9-872b-42899e71e5b1",
   "metadata": {
    "tags": []
   },
   "outputs": [],
   "source": [
    "def estimate_rating(user_id, movie_id, ratings):\n",
    "    user_ratings = find_rated_movies_by_user(user_id, ratings)\n",
    "    similarities = [compute_similarity(movie_id, movie_id_rated, movies) for movie_id_rated in user_ratings.movieId]\n",
    "    sum_similarities = sum(similarities)\n",
    "    if sum_similarities != 0:\n",
    "        estimated_rating = sum([rating * similarity for (rating, similarity) in zip(user_ratings.rating, similarities)])/sum_similarities\n",
    "    else:\n",
    "        estimated_rating = user_ratings.rating.mean()\n",
    "    return estimated_rating"
   ]
  },
  {
   "cell_type": "code",
   "execution_count": 12,
   "id": "88788e53-1af5-4c49-b387-aefa1c64e2d5",
   "metadata": {
    "tags": []
   },
   "outputs": [
    {
     "data": {
      "text/plain": [
       "3.2362271742494606"
      ]
     },
     "execution_count": 12,
     "metadata": {},
     "output_type": "execute_result"
    }
   ],
   "source": [
    "estimate_rating(509, 7347, ratings.iloc[1:])  # true value 3"
   ]
  },
  {
   "cell_type": "markdown",
   "id": "af003a16-51bb-4f4e-8b20-c6a0a3b59dfd",
   "metadata": {},
   "source": [
    "#### Estimate the rating for all test request"
   ]
  },
  {
   "cell_type": "code",
   "execution_count": 14,
   "id": "f03ccca3-c538-415a-a156-170819f41785",
   "metadata": {
    "tags": []
   },
   "outputs": [
    {
     "name": "stderr",
     "output_type": "stream",
     "text": [
      "  0%|          | 72/20168 [00:02<11:35, 28.90it/s]\n"
     ]
    },
    {
     "ename": "KeyboardInterrupt",
     "evalue": "",
     "output_type": "error",
     "traceback": [
      "\u001b[1;31m---------------------------------------------------------------------------\u001b[0m",
      "\u001b[1;31mKeyboardInterrupt\u001b[0m                         Traceback (most recent call last)",
      "\u001b[1;32md:\\EPFL\\distribInfo\\project1\\DistribInfoSystems\\Project2\\AMAin.ipynb Cell 23\u001b[0m line \u001b[0;36m1\n\u001b[0;32m     <a href='vscode-notebook-cell:/d%3A/EPFL/distribInfo/project1/DistribInfoSystems/Project2/AMAin.ipynb#X31sZmlsZQ%3D%3D?line=11'>12</a>\u001b[0m         movie_id \u001b[39m=\u001b[39m row[\u001b[39m\"\u001b[39m\u001b[39mmovieId\u001b[39m\u001b[39m\"\u001b[39m]\n\u001b[0;32m     <a href='vscode-notebook-cell:/d%3A/EPFL/distribInfo/project1/DistribInfoSystems/Project2/AMAin.ipynb#X31sZmlsZQ%3D%3D?line=12'>13</a>\u001b[0m         user_id \u001b[39m=\u001b[39m row[\u001b[39m\"\u001b[39m\u001b[39muserId\u001b[39m\u001b[39m\"\u001b[39m]\n\u001b[1;32m---> <a href='vscode-notebook-cell:/d%3A/EPFL/distribInfo/project1/DistribInfoSystems/Project2/AMAin.ipynb#X31sZmlsZQ%3D%3D?line=13'>14</a>\u001b[0m         estimated_rating \u001b[39m=\u001b[39m \u001b[39mround\u001b[39m(estimate_rating(user_id, movie_id, ratings) \u001b[39m/\u001b[39m resolution) \u001b[39m*\u001b[39m resolution\n\u001b[0;32m     <a href='vscode-notebook-cell:/d%3A/EPFL/distribInfo/project1/DistribInfoSystems/Project2/AMAin.ipynb#X31sZmlsZQ%3D%3D?line=14'>15</a>\u001b[0m         writer\u001b[39m.\u001b[39mwriterow([i, \u001b[39m\"\u001b[39m\u001b[39m{}\u001b[39;00m\u001b[39m\"\u001b[39m\u001b[39m.\u001b[39mformat(estimated_rating)])   \n\u001b[0;32m     <a href='vscode-notebook-cell:/d%3A/EPFL/distribInfo/project1/DistribInfoSystems/Project2/AMAin.ipynb#X31sZmlsZQ%3D%3D?line=15'>16</a>\u001b[0m f\u001b[39m.\u001b[39mclose()\n",
      "\u001b[1;32md:\\EPFL\\distribInfo\\project1\\DistribInfoSystems\\Project2\\AMAin.ipynb Cell 23\u001b[0m line \u001b[0;36m3\n\u001b[0;32m      <a href='vscode-notebook-cell:/d%3A/EPFL/distribInfo/project1/DistribInfoSystems/Project2/AMAin.ipynb#X31sZmlsZQ%3D%3D?line=0'>1</a>\u001b[0m \u001b[39mdef\u001b[39;00m \u001b[39mestimate_rating\u001b[39m(user_id, movie_id, ratings):\n\u001b[0;32m      <a href='vscode-notebook-cell:/d%3A/EPFL/distribInfo/project1/DistribInfoSystems/Project2/AMAin.ipynb#X31sZmlsZQ%3D%3D?line=1'>2</a>\u001b[0m     user_ratings \u001b[39m=\u001b[39m find_rated_movies_by_user(user_id, ratings)\n\u001b[1;32m----> <a href='vscode-notebook-cell:/d%3A/EPFL/distribInfo/project1/DistribInfoSystems/Project2/AMAin.ipynb#X31sZmlsZQ%3D%3D?line=2'>3</a>\u001b[0m     similarities \u001b[39m=\u001b[39m [compute_similarity(movie_id, movie_id_rated, movies) \u001b[39mfor\u001b[39;00m movie_id_rated \u001b[39min\u001b[39;00m user_ratings\u001b[39m.\u001b[39mmovieId]\n\u001b[0;32m      <a href='vscode-notebook-cell:/d%3A/EPFL/distribInfo/project1/DistribInfoSystems/Project2/AMAin.ipynb#X31sZmlsZQ%3D%3D?line=3'>4</a>\u001b[0m     sum_similarities \u001b[39m=\u001b[39m \u001b[39msum\u001b[39m(similarities)\n\u001b[0;32m      <a href='vscode-notebook-cell:/d%3A/EPFL/distribInfo/project1/DistribInfoSystems/Project2/AMAin.ipynb#X31sZmlsZQ%3D%3D?line=4'>5</a>\u001b[0m     \u001b[39mif\u001b[39;00m sum_similarities \u001b[39m!=\u001b[39m \u001b[39m0\u001b[39m:\n",
      "\u001b[1;32md:\\EPFL\\distribInfo\\project1\\DistribInfoSystems\\Project2\\AMAin.ipynb Cell 23\u001b[0m line \u001b[0;36m3\n\u001b[0;32m      <a href='vscode-notebook-cell:/d%3A/EPFL/distribInfo/project1/DistribInfoSystems/Project2/AMAin.ipynb#X31sZmlsZQ%3D%3D?line=0'>1</a>\u001b[0m \u001b[39mdef\u001b[39;00m \u001b[39mestimate_rating\u001b[39m(user_id, movie_id, ratings):\n\u001b[0;32m      <a href='vscode-notebook-cell:/d%3A/EPFL/distribInfo/project1/DistribInfoSystems/Project2/AMAin.ipynb#X31sZmlsZQ%3D%3D?line=1'>2</a>\u001b[0m     user_ratings \u001b[39m=\u001b[39m find_rated_movies_by_user(user_id, ratings)\n\u001b[1;32m----> <a href='vscode-notebook-cell:/d%3A/EPFL/distribInfo/project1/DistribInfoSystems/Project2/AMAin.ipynb#X31sZmlsZQ%3D%3D?line=2'>3</a>\u001b[0m     similarities \u001b[39m=\u001b[39m [compute_similarity(movie_id, movie_id_rated, movies) \u001b[39mfor\u001b[39;00m movie_id_rated \u001b[39min\u001b[39;00m user_ratings\u001b[39m.\u001b[39mmovieId]\n\u001b[0;32m      <a href='vscode-notebook-cell:/d%3A/EPFL/distribInfo/project1/DistribInfoSystems/Project2/AMAin.ipynb#X31sZmlsZQ%3D%3D?line=3'>4</a>\u001b[0m     sum_similarities \u001b[39m=\u001b[39m \u001b[39msum\u001b[39m(similarities)\n\u001b[0;32m      <a href='vscode-notebook-cell:/d%3A/EPFL/distribInfo/project1/DistribInfoSystems/Project2/AMAin.ipynb#X31sZmlsZQ%3D%3D?line=4'>5</a>\u001b[0m     \u001b[39mif\u001b[39;00m sum_similarities \u001b[39m!=\u001b[39m \u001b[39m0\u001b[39m:\n",
      "\u001b[1;32md:\\EPFL\\distribInfo\\project1\\DistribInfoSystems\\Project2\\AMAin.ipynb Cell 23\u001b[0m line \u001b[0;36m2\n\u001b[0;32m      <a href='vscode-notebook-cell:/d%3A/EPFL/distribInfo/project1/DistribInfoSystems/Project2/AMAin.ipynb#X31sZmlsZQ%3D%3D?line=0'>1</a>\u001b[0m \u001b[39mdef\u001b[39;00m \u001b[39mcompute_similarity\u001b[39m(movie_id_1, movie_id_2, movies):\n\u001b[1;32m----> <a href='vscode-notebook-cell:/d%3A/EPFL/distribInfo/project1/DistribInfoSystems/Project2/AMAin.ipynb#X31sZmlsZQ%3D%3D?line=1'>2</a>\u001b[0m     genres_1 \u001b[39m=\u001b[39m \u001b[39mset\u001b[39m(find_genre_from_movie(movie_id_1, movies))\n\u001b[0;32m      <a href='vscode-notebook-cell:/d%3A/EPFL/distribInfo/project1/DistribInfoSystems/Project2/AMAin.ipynb#X31sZmlsZQ%3D%3D?line=2'>3</a>\u001b[0m     genres_2 \u001b[39m=\u001b[39m \u001b[39mset\u001b[39m(find_genre_from_movie(movie_id_2, movies))\n\u001b[0;32m      <a href='vscode-notebook-cell:/d%3A/EPFL/distribInfo/project1/DistribInfoSystems/Project2/AMAin.ipynb#X31sZmlsZQ%3D%3D?line=4'>5</a>\u001b[0m     n_common \u001b[39m=\u001b[39m \u001b[39mlen\u001b[39m(genres_1 \u001b[39m&\u001b[39m genres_2)\n",
      "\u001b[1;32md:\\EPFL\\distribInfo\\project1\\DistribInfoSystems\\Project2\\AMAin.ipynb Cell 23\u001b[0m line \u001b[0;36m2\n\u001b[0;32m      <a href='vscode-notebook-cell:/d%3A/EPFL/distribInfo/project1/DistribInfoSystems/Project2/AMAin.ipynb#X31sZmlsZQ%3D%3D?line=0'>1</a>\u001b[0m \u001b[39mdef\u001b[39;00m \u001b[39mfind_genre_from_movie\u001b[39m(movie_id, movies):\n\u001b[1;32m----> <a href='vscode-notebook-cell:/d%3A/EPFL/distribInfo/project1/DistribInfoSystems/Project2/AMAin.ipynb#X31sZmlsZQ%3D%3D?line=1'>2</a>\u001b[0m     genres \u001b[39m=\u001b[39m movies\u001b[39m.\u001b[39;49mloc[movie_id][\u001b[39m\"\u001b[39m\u001b[39mgenres\u001b[39m\u001b[39m\"\u001b[39m]\n\u001b[0;32m      <a href='vscode-notebook-cell:/d%3A/EPFL/distribInfo/project1/DistribInfoSystems/Project2/AMAin.ipynb#X31sZmlsZQ%3D%3D?line=2'>3</a>\u001b[0m     \u001b[39mreturn\u001b[39;00m genres\u001b[39m.\u001b[39msplit(\u001b[39m\"\u001b[39m\u001b[39m|\u001b[39m\u001b[39m\"\u001b[39m)\n",
      "File \u001b[1;32m~\\AppData\\Local\\Packages\\PythonSoftwareFoundation.Python.3.10_qbz5n2kfra8p0\\LocalCache\\local-packages\\Python310\\site-packages\\pandas\\core\\indexing.py:1153\u001b[0m, in \u001b[0;36m_LocationIndexer.__getitem__\u001b[1;34m(self, key)\u001b[0m\n\u001b[0;32m   1150\u001b[0m axis \u001b[39m=\u001b[39m \u001b[39mself\u001b[39m\u001b[39m.\u001b[39maxis \u001b[39mor\u001b[39;00m \u001b[39m0\u001b[39m\n\u001b[0;32m   1152\u001b[0m maybe_callable \u001b[39m=\u001b[39m com\u001b[39m.\u001b[39mapply_if_callable(key, \u001b[39mself\u001b[39m\u001b[39m.\u001b[39mobj)\n\u001b[1;32m-> 1153\u001b[0m \u001b[39mreturn\u001b[39;00m \u001b[39mself\u001b[39;49m\u001b[39m.\u001b[39;49m_getitem_axis(maybe_callable, axis\u001b[39m=\u001b[39;49maxis)\n",
      "File \u001b[1;32m~\\AppData\\Local\\Packages\\PythonSoftwareFoundation.Python.3.10_qbz5n2kfra8p0\\LocalCache\\local-packages\\Python310\\site-packages\\pandas\\core\\indexing.py:1392\u001b[0m, in \u001b[0;36m_LocIndexer._getitem_axis\u001b[1;34m(self, key, axis)\u001b[0m\n\u001b[0;32m   1389\u001b[0m         \u001b[39mreturn\u001b[39;00m \u001b[39mself\u001b[39m\u001b[39m.\u001b[39mobj\u001b[39m.\u001b[39miloc[\u001b[39mtuple\u001b[39m(indexer)]\n\u001b[0;32m   1391\u001b[0m \u001b[39m# fall thru to straight lookup\u001b[39;00m\n\u001b[1;32m-> 1392\u001b[0m \u001b[39mself\u001b[39;49m\u001b[39m.\u001b[39;49m_validate_key(key, axis)\n\u001b[0;32m   1393\u001b[0m \u001b[39mreturn\u001b[39;00m \u001b[39mself\u001b[39m\u001b[39m.\u001b[39m_get_label(key, axis\u001b[39m=\u001b[39maxis)\n",
      "File \u001b[1;32m~\\AppData\\Local\\Packages\\PythonSoftwareFoundation.Python.3.10_qbz5n2kfra8p0\\LocalCache\\local-packages\\Python310\\site-packages\\pandas\\core\\indexing.py:1195\u001b[0m, in \u001b[0;36m_LocIndexer._validate_key\u001b[1;34m(self, key, axis)\u001b[0m\n\u001b[0;32m   1188\u001b[0m \u001b[39m@doc\u001b[39m(_LocationIndexer\u001b[39m.\u001b[39m_validate_key)\n\u001b[0;32m   1189\u001b[0m \u001b[39mdef\u001b[39;00m \u001b[39m_validate_key\u001b[39m(\u001b[39mself\u001b[39m, key, axis: Axis):\n\u001b[0;32m   1190\u001b[0m     \u001b[39m# valid for a collection of labels (we check their presence later)\u001b[39;00m\n\u001b[0;32m   1191\u001b[0m     \u001b[39m# slice of labels (where start-end in labels)\u001b[39;00m\n\u001b[0;32m   1192\u001b[0m     \u001b[39m# slice of integers (only if in the labels)\u001b[39;00m\n\u001b[0;32m   1193\u001b[0m     \u001b[39m# boolean not in slice and with boolean index\u001b[39;00m\n\u001b[0;32m   1194\u001b[0m     ax \u001b[39m=\u001b[39m \u001b[39mself\u001b[39m\u001b[39m.\u001b[39mobj\u001b[39m.\u001b[39m_get_axis(axis)\n\u001b[1;32m-> 1195\u001b[0m     \u001b[39mif\u001b[39;00m \u001b[39misinstance\u001b[39;49m(key, \u001b[39mbool\u001b[39;49m) \u001b[39mand\u001b[39;00m \u001b[39mnot\u001b[39;00m (\n\u001b[0;32m   1196\u001b[0m         is_bool_dtype(ax\u001b[39m.\u001b[39mdtype)\n\u001b[0;32m   1197\u001b[0m         \u001b[39mor\u001b[39;00m ax\u001b[39m.\u001b[39mdtype\u001b[39m.\u001b[39mname \u001b[39m==\u001b[39m \u001b[39m\"\u001b[39m\u001b[39mboolean\u001b[39m\u001b[39m\"\u001b[39m\n\u001b[0;32m   1198\u001b[0m         \u001b[39mor\u001b[39;00m \u001b[39misinstance\u001b[39m(ax, MultiIndex)\n\u001b[0;32m   1199\u001b[0m         \u001b[39mand\u001b[39;00m is_bool_dtype(ax\u001b[39m.\u001b[39mget_level_values(\u001b[39m0\u001b[39m)\u001b[39m.\u001b[39mdtype)\n\u001b[0;32m   1200\u001b[0m     ):\n\u001b[0;32m   1201\u001b[0m         \u001b[39mraise\u001b[39;00m \u001b[39mKeyError\u001b[39;00m(\n\u001b[0;32m   1202\u001b[0m             \u001b[39mf\u001b[39m\u001b[39m\"\u001b[39m\u001b[39m{\u001b[39;00mkey\u001b[39m}\u001b[39;00m\u001b[39m: boolean label can not be used without a boolean index\u001b[39m\u001b[39m\"\u001b[39m\n\u001b[0;32m   1203\u001b[0m         )\n\u001b[0;32m   1205\u001b[0m     \u001b[39mif\u001b[39;00m \u001b[39misinstance\u001b[39m(key, \u001b[39mslice\u001b[39m) \u001b[39mand\u001b[39;00m (\n\u001b[0;32m   1206\u001b[0m         \u001b[39misinstance\u001b[39m(key\u001b[39m.\u001b[39mstart, \u001b[39mbool\u001b[39m) \u001b[39mor\u001b[39;00m \u001b[39misinstance\u001b[39m(key\u001b[39m.\u001b[39mstop, \u001b[39mbool\u001b[39m)\n\u001b[0;32m   1207\u001b[0m     ):\n",
      "\u001b[1;31mKeyboardInterrupt\u001b[0m: "
     ]
    }
   ],
   "source": [
    "import csv\n",
    "from tqdm import tqdm\n",
    "import multiprocessing\n",
    "f = open('submission.csv', 'w', newline='')\n",
    "writer = csv.writer(f)\n",
    "writer.writerow([\"Id\", \"rating\"])\n",
    "resolution = 0.5\n",
    "\n",
    "with tqdm(total=test.shape[0]) as pbar: \n",
    "    for i, row in test.iterrows():\n",
    "        pbar.update(1)\n",
    "        movie_id = row[\"movieId\"]\n",
    "        user_id = row[\"userId\"]\n",
    "        estimated_rating = round(estimate_rating(user_id, movie_id, ratings) / resolution) * resolution\n",
    "        writer.writerow([i, \"{}\".format(estimated_rating)])   \n",
    "f.close()"
   ]
  },
  {
   "cell_type": "code",
   "execution_count": 15,
   "id": "855fb172-eb10-44b2-b804-ad674f9287a4",
   "metadata": {},
   "outputs": [],
   "source": []
  },
  {
   "cell_type": "code",
   "execution_count": null,
   "id": "b4cef849",
   "metadata": {},
   "outputs": [],
   "source": []
  }
 ],
 "metadata": {
  "kernelspec": {
   "display_name": "Python 3",
   "language": "python",
   "name": "python3"
  },
  "language_info": {
   "codemirror_mode": {
    "name": "ipython",
    "version": 3
   },
   "file_extension": ".py",
   "mimetype": "text/x-python",
   "name": "python",
   "nbconvert_exporter": "python",
   "pygments_lexer": "ipython3",
   "version": "3.10.11"
  }
 },
 "nbformat": 4,
 "nbformat_minor": 5
}
