{
 "cells": [
  {
   "cell_type": "code",
   "execution_count": 14,
   "id": "13019f85-9ae3-4569-b834-a8c9c9b268be",
   "metadata": {
    "tags": []
   },
   "outputs": [],
   "source": [
    "import pandas as pd"
   ]
  },
  {
   "cell_type": "code",
   "execution_count": 15,
   "id": "becb8dde-6ba7-4894-b3f4-57aceee42da7",
   "metadata": {
    "tags": []
   },
   "outputs": [],
   "source": [
    "ratings = pd.read_table(\"train_ratings.csv\", sep=\",\")\n",
    "test = pd.read_table(\"test_set_no_ratings.csv\", sep=\",\")\n",
    "movies = pd.read_table(\"movies.csv\", sep=\",\").set_index(\"movieId\")"
   ]
  },
  {
   "cell_type": "markdown",
   "id": "5477ce9e-bc77-427c-bae7-b2072cff2f75",
   "metadata": {
    "tags": []
   },
   "source": [
    "#### Test if there are multiple ratings for a pair (user, movie) in ratings"
   ]
  },
  {
   "cell_type": "code",
   "execution_count": 16,
   "id": "5ddbeb43-4d83-4fbc-b4f3-371f95954dae",
   "metadata": {
    "tags": []
   },
   "outputs": [
    {
     "data": {
      "text/plain": [
       "rating       True\n",
       "timestamp    True\n",
       "dtype: bool"
      ]
     },
     "execution_count": 16,
     "metadata": {},
     "output_type": "execute_result"
    }
   ],
   "source": [
    "number_of_ratings = ratings.groupby([\"userId\", \"movieId\"]).count()\n",
    "(number_of_ratings == 1).all()"
   ]
  },
  {
   "cell_type": "markdown",
   "id": "5698e11c-1671-478e-88a0-bfa2f5b61c16",
   "metadata": {},
   "source": [
    "No duplicates !"
   ]
  },
  {
   "cell_type": "markdown",
   "id": "1292799e-1f70-4a89-aeca-96f9c84df99e",
   "metadata": {
    "tags": []
   },
   "source": [
    "#### Test if there are users (in test) without movie ratings"
   ]
  },
  {
   "cell_type": "code",
   "execution_count": 17,
   "id": "da87ec83-1254-4ff7-bd2f-e58d66d9734a",
   "metadata": {
    "tags": []
   },
   "outputs": [
    {
     "data": {
      "text/plain": [
       "True"
      ]
     },
     "execution_count": 17,
     "metadata": {},
     "output_type": "execute_result"
    }
   ],
   "source": [
    "test.userId.isin(ratings.userId).all()"
   ]
  },
  {
   "cell_type": "markdown",
   "id": "858c229a-dc0f-4867-9afc-18384a67471a",
   "metadata": {},
   "source": [
    "No users without movie ratings !!"
   ]
  },
  {
   "cell_type": "markdown",
   "id": "7b910b1e-c1b7-4fa4-8053-87e86945be86",
   "metadata": {},
   "source": [
    "#### Define function that retrives rated movies by userId"
   ]
  },
  {
   "cell_type": "code",
   "execution_count": 18,
   "id": "e91fc2c6-b9d8-4e5b-a13a-f84b89150dcb",
   "metadata": {
    "tags": []
   },
   "outputs": [
    {
     "data": {
      "text/html": [
       "<div>\n",
       "<style scoped>\n",
       "    .dataframe tbody tr th:only-of-type {\n",
       "        vertical-align: middle;\n",
       "    }\n",
       "\n",
       "    .dataframe tbody tr th {\n",
       "        vertical-align: top;\n",
       "    }\n",
       "\n",
       "    .dataframe thead th {\n",
       "        text-align: right;\n",
       "    }\n",
       "</style>\n",
       "<table border=\"1\" class=\"dataframe\">\n",
       "  <thead>\n",
       "    <tr style=\"text-align: right;\">\n",
       "      <th></th>\n",
       "      <th>userId</th>\n",
       "      <th>movieId</th>\n",
       "      <th>rating</th>\n",
       "      <th>timestamp</th>\n",
       "    </tr>\n",
       "  </thead>\n",
       "  <tbody>\n",
       "    <tr>\n",
       "      <th>0</th>\n",
       "      <td>509</td>\n",
       "      <td>7347</td>\n",
       "      <td>3.0</td>\n",
       "      <td>1435994597</td>\n",
       "    </tr>\n",
       "    <tr>\n",
       "      <th>1</th>\n",
       "      <td>326</td>\n",
       "      <td>71462</td>\n",
       "      <td>4.0</td>\n",
       "      <td>1322252335</td>\n",
       "    </tr>\n",
       "    <tr>\n",
       "      <th>2</th>\n",
       "      <td>57</td>\n",
       "      <td>2115</td>\n",
       "      <td>3.0</td>\n",
       "      <td>965798155</td>\n",
       "    </tr>\n",
       "    <tr>\n",
       "      <th>3</th>\n",
       "      <td>610</td>\n",
       "      <td>1127</td>\n",
       "      <td>4.0</td>\n",
       "      <td>1479544102</td>\n",
       "    </tr>\n",
       "    <tr>\n",
       "      <th>4</th>\n",
       "      <td>462</td>\n",
       "      <td>2409</td>\n",
       "      <td>2.0</td>\n",
       "      <td>1174438249</td>\n",
       "    </tr>\n",
       "    <tr>\n",
       "      <th>...</th>\n",
       "      <td>...</td>\n",
       "      <td>...</td>\n",
       "      <td>...</td>\n",
       "      <td>...</td>\n",
       "    </tr>\n",
       "    <tr>\n",
       "      <th>80663</th>\n",
       "      <td>42</td>\n",
       "      <td>4005</td>\n",
       "      <td>4.0</td>\n",
       "      <td>996259059</td>\n",
       "    </tr>\n",
       "    <tr>\n",
       "      <th>80664</th>\n",
       "      <td>364</td>\n",
       "      <td>141</td>\n",
       "      <td>4.0</td>\n",
       "      <td>869443367</td>\n",
       "    </tr>\n",
       "    <tr>\n",
       "      <th>80665</th>\n",
       "      <td>480</td>\n",
       "      <td>6867</td>\n",
       "      <td>4.0</td>\n",
       "      <td>1179163171</td>\n",
       "    </tr>\n",
       "    <tr>\n",
       "      <th>80666</th>\n",
       "      <td>6</td>\n",
       "      <td>981</td>\n",
       "      <td>3.0</td>\n",
       "      <td>845556567</td>\n",
       "    </tr>\n",
       "    <tr>\n",
       "      <th>80667</th>\n",
       "      <td>103</td>\n",
       "      <td>6711</td>\n",
       "      <td>5.0</td>\n",
       "      <td>1431957425</td>\n",
       "    </tr>\n",
       "  </tbody>\n",
       "</table>\n",
       "<p>80668 rows × 4 columns</p>\n",
       "</div>"
      ],
      "text/plain": [
       "       userId  movieId  rating   timestamp\n",
       "0         509     7347     3.0  1435994597\n",
       "1         326    71462     4.0  1322252335\n",
       "2          57     2115     3.0   965798155\n",
       "3         610     1127     4.0  1479544102\n",
       "4         462     2409     2.0  1174438249\n",
       "...       ...      ...     ...         ...\n",
       "80663      42     4005     4.0   996259059\n",
       "80664     364      141     4.0   869443367\n",
       "80665     480     6867     4.0  1179163171\n",
       "80666       6      981     3.0   845556567\n",
       "80667     103     6711     5.0  1431957425\n",
       "\n",
       "[80668 rows x 4 columns]"
      ]
     },
     "execution_count": 18,
     "metadata": {},
     "output_type": "execute_result"
    }
   ],
   "source": [
    "ratings"
   ]
  },
  {
   "cell_type": "code",
   "execution_count": 19,
   "id": "6f3c6212-3d28-4a56-b362-b47ad249efa9",
   "metadata": {
    "tags": []
   },
   "outputs": [],
   "source": [
    "def find_rated_movies_by_user(user_id, ratings):\n",
    "    rated_movies_by_user = ratings[ratings.userId == user_id]\n",
    "    return rated_movies_by_user\n",
    "\n",
    "def find_ratings_by_movie(movie_id, ratings):\n",
    "    ratings_for_movie = ratings[ratings.movieId == movie_id]\n",
    "    return ratings_for_movie"
   ]
  },
  {
   "cell_type": "code",
   "execution_count": 20,
   "id": "310162a5-0e06-4981-9d3d-8256a32468a1",
   "metadata": {
    "tags": []
   },
   "outputs": [
    {
     "data": {
      "text/html": [
       "<div>\n",
       "<style scoped>\n",
       "    .dataframe tbody tr th:only-of-type {\n",
       "        vertical-align: middle;\n",
       "    }\n",
       "\n",
       "    .dataframe tbody tr th {\n",
       "        vertical-align: top;\n",
       "    }\n",
       "\n",
       "    .dataframe thead th {\n",
       "        text-align: right;\n",
       "    }\n",
       "</style>\n",
       "<table border=\"1\" class=\"dataframe\">\n",
       "  <thead>\n",
       "    <tr style=\"text-align: right;\">\n",
       "      <th></th>\n",
       "      <th>userId</th>\n",
       "      <th>movieId</th>\n",
       "      <th>rating</th>\n",
       "      <th>timestamp</th>\n",
       "    </tr>\n",
       "  </thead>\n",
       "  <tbody>\n",
       "    <tr>\n",
       "      <th>0</th>\n",
       "      <td>509</td>\n",
       "      <td>7347</td>\n",
       "      <td>3.0</td>\n",
       "      <td>1435994597</td>\n",
       "    </tr>\n",
       "    <tr>\n",
       "      <th>69</th>\n",
       "      <td>509</td>\n",
       "      <td>4993</td>\n",
       "      <td>5.0</td>\n",
       "      <td>1435992277</td>\n",
       "    </tr>\n",
       "    <tr>\n",
       "      <th>239</th>\n",
       "      <td>509</td>\n",
       "      <td>2028</td>\n",
       "      <td>3.5</td>\n",
       "      <td>1436393168</td>\n",
       "    </tr>\n",
       "    <tr>\n",
       "      <th>275</th>\n",
       "      <td>509</td>\n",
       "      <td>85510</td>\n",
       "      <td>3.5</td>\n",
       "      <td>1435999262</td>\n",
       "    </tr>\n",
       "    <tr>\n",
       "      <th>471</th>\n",
       "      <td>509</td>\n",
       "      <td>94780</td>\n",
       "      <td>2.5</td>\n",
       "      <td>1435999746</td>\n",
       "    </tr>\n",
       "    <tr>\n",
       "      <th>...</th>\n",
       "      <td>...</td>\n",
       "      <td>...</td>\n",
       "      <td>...</td>\n",
       "      <td>...</td>\n",
       "    </tr>\n",
       "    <tr>\n",
       "      <th>79126</th>\n",
       "      <td>509</td>\n",
       "      <td>7045</td>\n",
       "      <td>3.0</td>\n",
       "      <td>1436027388</td>\n",
       "    </tr>\n",
       "    <tr>\n",
       "      <th>79765</th>\n",
       "      <td>509</td>\n",
       "      <td>70183</td>\n",
       "      <td>3.5</td>\n",
       "      <td>1435997259</td>\n",
       "    </tr>\n",
       "    <tr>\n",
       "      <th>79853</th>\n",
       "      <td>509</td>\n",
       "      <td>45447</td>\n",
       "      <td>3.0</td>\n",
       "      <td>1435998371</td>\n",
       "    </tr>\n",
       "    <tr>\n",
       "      <th>80217</th>\n",
       "      <td>509</td>\n",
       "      <td>78105</td>\n",
       "      <td>4.0</td>\n",
       "      <td>1435996118</td>\n",
       "    </tr>\n",
       "    <tr>\n",
       "      <th>80428</th>\n",
       "      <td>509</td>\n",
       "      <td>37729</td>\n",
       "      <td>3.5</td>\n",
       "      <td>1435993861</td>\n",
       "    </tr>\n",
       "  </tbody>\n",
       "</table>\n",
       "<p>374 rows × 4 columns</p>\n",
       "</div>"
      ],
      "text/plain": [
       "       userId  movieId  rating   timestamp\n",
       "0         509     7347     3.0  1435994597\n",
       "69        509     4993     5.0  1435992277\n",
       "239       509     2028     3.5  1436393168\n",
       "275       509    85510     3.5  1435999262\n",
       "471       509    94780     2.5  1435999746\n",
       "...       ...      ...     ...         ...\n",
       "79126     509     7045     3.0  1436027388\n",
       "79765     509    70183     3.5  1435997259\n",
       "79853     509    45447     3.0  1435998371\n",
       "80217     509    78105     4.0  1435996118\n",
       "80428     509    37729     3.5  1435993861\n",
       "\n",
       "[374 rows x 4 columns]"
      ]
     },
     "execution_count": 20,
     "metadata": {},
     "output_type": "execute_result"
    }
   ],
   "source": [
    "find_rated_movies_by_user(509, ratings)"
   ]
  },
  {
   "cell_type": "code",
   "execution_count": 21,
   "id": "60404771-b93b-4ae8-83e2-294db8faf3a9",
   "metadata": {
    "tags": []
   },
   "outputs": [],
   "source": [
    "def find_genre_from_movie(movie_id, movies):\n",
    "    genres = movies.loc[movie_id][\"genres\"]\n",
    "    return genres\n"
   ]
  },
  {
   "cell_type": "code",
   "execution_count": 22,
   "id": "1982ca88-a1e9-48cc-b532-38a5fa7954ed",
   "metadata": {},
   "outputs": [],
   "source": [
    "movies[\"genres\"] = movies[\"genres\"].apply(lambda x : x.split(\"|\"))"
   ]
  },
  {
   "cell_type": "code",
   "execution_count": 24,
   "id": "ee832516-3a7a-4a2e-8686-04ef25022e53",
   "metadata": {
    "tags": []
   },
   "outputs": [
    {
     "data": {
      "text/plain": [
       "['Adventure', 'Animation', 'Children', 'Comedy', 'Fantasy']"
      ]
     },
     "execution_count": 24,
     "metadata": {},
     "output_type": "execute_result"
    }
   ],
   "source": [
    "find_genre_from_movie(1,movies)"
   ]
  },
  {
   "cell_type": "markdown",
   "id": "bb2fa66e-0124-45b7-9115-c50864c90df5",
   "metadata": {},
   "source": [
    "Define similarity function (Jaccard's distance with Genres)"
   ]
  },
  {
   "cell_type": "markdown",
   "id": "220c137c-26b8-41d8-bf67-9ccf46ecf2bb",
   "metadata": {},
   "source": [
    "do we need to work with sets ? duplicates in genre ?"
   ]
  },
  {
   "cell_type": "code",
   "execution_count": 25,
   "id": "70e7f0c9-bc85-4dc0-a557-5ebfc065c906",
   "metadata": {
    "tags": []
   },
   "outputs": [],
   "source": [
    "def compute_similarity(movie_id_1, movie_id_2, movies):\n",
    "    genres_1 = set(find_genre_from_movie(movie_id_1, movies))\n",
    "    genres_2 = set(find_genre_from_movie(movie_id_2, movies))\n",
    "    \n",
    "    n_common = len(genres_1 & genres_2)\n",
    "    n_total = len(genres_1 | genres_2)\n",
    "    \n",
    "    return n_common/n_total"
   ]
  },
  {
   "cell_type": "markdown",
   "id": "42e2e3fc-147c-41eb-879b-a208203b36c2",
   "metadata": {},
   "source": [
    "Define aggregate function"
   ]
  },
  {
   "cell_type": "code",
   "execution_count": 26,
   "id": "67f38bdc-9161-4cb2-b048-234c514c551b",
   "metadata": {},
   "outputs": [],
   "source": [
    "def compute_user_average(user_id, ratings):\n",
    "    user_ratings = find_rated_movies_by_user(user_id, ratings)\n",
    "    return user_ratings.rating.mean()"
   ]
  },
  {
   "cell_type": "code",
   "execution_count": 27,
   "id": "0f0d0386-3a28-4fb9-8fbd-20d3fd4f6961",
   "metadata": {},
   "outputs": [],
   "source": [
    "def compute_user_average_with_weight(user_id, movie_id, ratings, movies):\n",
    "    user_ratings = find_rated_movies_by_user(user_id, ratings)\n",
    "    similarities = [compute_similarity(movie_id, movie_id_rated, movies) for movie_id_rated in user_ratings.movieId]\n",
    "    sum_similarities = sum(similarities)\n",
    "    if sum_similarities != 0:\n",
    "        estimated_rating = sum([rating * similarity for (rating, similarity) in zip(user_ratings.rating, similarities)])/sum_similarities\n",
    "    else:\n",
    "        estimated_rating = compute_user_average(user_id, ratings)\n",
    "    return estimated_rating"
   ]
  },
  {
   "cell_type": "code",
   "execution_count": 28,
   "id": "cd822218-c7dc-4467-bbb8-f73499256680",
   "metadata": {},
   "outputs": [],
   "source": [
    "def scale(user_rating, average_user_rating):\n",
    "    if (user_rating > average_user_rating):\n",
    "        return 5.0 - average_user_rating\n",
    "    elif (user_rating < average_user_rating):\n",
    "        return average_user_rating - 1.0\n",
    "    else:\n",
    "        return 1.0\n",
    "\n",
    "def compute_normalized_deviation_for_user_and_movie(rating, average_user_rating):\n",
    "    return (rating - average_user_rating) / scale(rating, average_user_rating)"
   ]
  },
  {
   "cell_type": "code",
   "execution_count": 29,
   "id": "2631a55d-58ca-416e-a4fb-9ffb0af0e396",
   "metadata": {},
   "outputs": [],
   "source": [
    "def compute_deviation_for_movie(movie_ratings, ratings):\n",
    "    sum = 0.0\n",
    "    for index, row in movie_ratings.iterrows():\n",
    "        sum += compute_normalized_deviation_for_user_and_movie(row.rating,\n",
    "                                              compute_user_average(row.userId, ratings))\n",
    "    return sum / len(movie_ratings)"
   ]
  },
  {
   "cell_type": "code",
   "execution_count": 30,
   "id": "d1980068-4290-4c92-8392-c9003ab7f831",
   "metadata": {},
   "outputs": [],
   "source": [
    "def movie_not_rated(movie_ratings):\n",
    "    return len(movie_ratings) == 0"
   ]
  },
  {
   "cell_type": "code",
   "execution_count": 31,
   "id": "efcf1c6c-a185-462d-a8bc-48c21e917ec4",
   "metadata": {},
   "outputs": [],
   "source": [
    "def estimate_rating_alternate_algo(user_id, movie_id, ratings):\n",
    "    user_average = compute_user_average_with_weight(user_id, movie_id, ratings, movies)\n",
    "\n",
    "    movie_ratings = find_ratings_by_movie(movie_id, ratings)\n",
    "    if movie_not_rated(movie_ratings):\n",
    "        return user_average\n",
    "    else:\n",
    "        deviation = compute_deviation_for_movie(movie_ratings, ratings)\n",
    "        scaling_factor = scale(user_average + deviation, user_average)\n",
    "        return user_average + deviation*scaling_factor"
   ]
  },
  {
   "cell_type": "code",
   "execution_count": 32,
   "id": "15c92ea1-3604-4ac9-872b-42899e71e5b1",
   "metadata": {
    "tags": []
   },
   "outputs": [],
   "source": [
    "def estimate_rating(user_id, movie_id, ratings):\n",
    "    user_ratings = find_rated_movies_by_user(user_id, ratings)\n",
    "    similarities = [compute_similarity(movie_id, movie_id_rated, movies) for movie_id_rated in user_ratings.movieId]\n",
    "    sum_similarities = sum(similarities)\n",
    "    if sum_similarities != 0:\n",
    "        estimated_rating = sum([rating * similarity for (rating, similarity) in zip(user_ratings.rating, similarities)])/sum_similarities\n",
    "    else:\n",
    "        estimated_rating = compute_user_average(user_id, ratings)\n",
    "    return estimated_rating"
   ]
  },
  {
   "cell_type": "code",
   "execution_count": 33,
   "id": "88788e53-1af5-4c49-b387-aefa1c64e2d5",
   "metadata": {
    "tags": []
   },
   "outputs": [
    {
     "data": {
      "text/plain": [
       "3.261617109248885"
      ]
     },
     "execution_count": 33,
     "metadata": {},
     "output_type": "execute_result"
    }
   ],
   "source": [
    "estimate_rating_alternate_algo(509, 7347, ratings.iloc[1:])  # true value 3"
   ]
  },
  {
   "cell_type": "markdown",
   "id": "af003a16-51bb-4f4e-8b20-c6a0a3b59dfd",
   "metadata": {},
   "source": [
    "#### Estimate the rating for all test request"
   ]
  },
  {
   "cell_type": "code",
   "execution_count": 63,
   "id": "855fb172-eb10-44b2-b804-ad674f9287a4",
   "metadata": {},
   "outputs": [
    {
     "name": "stdout",
     "output_type": "stream",
     "text": [
      "chunk processed\n",
      "chunk processed\n",
      "chunk processed\n",
      "chunk processed\n",
      "chunk processed\n",
      "chunk processed\n",
      "chunk processed\n",
      "chunk processed\n",
      "CPU times: user 49 ms, sys: 72.7 ms, total: 122 ms\n",
      "Wall time: 4min 54s\n"
     ]
    }
   ],
   "source": [
    "%%time\n",
    "\n",
    "from tqdm import tqdm\n",
    "import numpy as np\n",
    "from concurrent.futures import ProcessPoolExecutor\n",
    "\n",
    "resolution = 0.5\n",
    "\n",
    "def process_row(row, resolution, ratings):\n",
    "    i = row.name\n",
    "    movie_id = row[\"movieId\"]\n",
    "    user_id = row[\"userId\"]\n",
    "    estimated_rating = round(estimate_rating_alternate_algo(user_id, movie_id, ratings) / resolution) * resolution\n",
    "    return i, estimated_rating\n",
    "\n",
    "\n",
    "def process_chunk(chunk, resolution, ratings):\n",
    "    result = []\n",
    "    for _, row in chunk.iterrows():\n",
    "        result.extend(process_row(row, resolution, ratings))\n",
    "    return result\n",
    "    \n",
    "num_processes = 4\n",
    "\n",
    "\n",
    "chunks = np.array_split(test, num_processes)\n",
    "\n",
    "with ProcessPoolExecutor(max_workers=num_processes) as executor:\n",
    "    results = list(executor.map(process_chunk, chunks, [resolution] * num_processes, [ratings] * num_processes))\n",
    "\n",
    "# Write the results to the output file\n",
    "with open('submission.csv', 'w', newline='') as f:\n",
    "    writer = csv.writer(f)\n",
    "    writer.writerow([\"Id\", \"rating\"])\n",
    "    for chunk_result in results:\n",
    "        for i in range(0, len(chunk_result), 2):\n",
    "            writer.writerow([chunk_result[i], \"{}\".format(chunk_result[i+1])])"
   ]
  },
  {
   "cell_type": "code",
   "execution_count": null,
   "id": "a1763060-c983-4098-b482-da60b6781107",
   "metadata": {},
   "outputs": [],
   "source": []
  }
 ],
 "metadata": {
  "kernelspec": {
   "display_name": "Python 3 (ipykernel)",
   "language": "python",
   "name": "python3"
  },
  "language_info": {
   "codemirror_mode": {
    "name": "ipython",
    "version": 3
   },
   "file_extension": ".py",
   "mimetype": "text/x-python",
   "name": "python",
   "nbconvert_exporter": "python",
   "pygments_lexer": "ipython3",
   "version": "3.11.5"
  }
 },
 "nbformat": 4,
 "nbformat_minor": 5
}
